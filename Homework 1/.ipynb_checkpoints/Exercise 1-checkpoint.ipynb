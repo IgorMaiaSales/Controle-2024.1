{
 "cells": [
  {
   "cell_type": "markdown",
   "id": "5a4447aa-162b-4e10-b053-9d71fbb2c1ce",
   "metadata": {},
   "source": [
    "# Homework 1 - Introdução aos Sistemas de Controle\n",
    "\n",
    "Aluno: Igor Torquato Maia Sales\n",
    "Matrícula: 485177\n",
    "\n",
    "Este documento foi feito utilizando o Jupyter Notebooks. O link para o github com todos os arquivos gerados durante a escrita desse documento está aqui.\n",
    "\n",
    "# Exercise 1\n",
    "\n",
    "Encontre a transformada inversa de Laplace por cálculos manuais e verifique seus resultados usando o “Symbolic toolbox” para as seguintes funções:\n",
    "\n",
    "$a. F_1 (s) = \\Large\\frac{3s^{2} + 5s}{s^{3} + 6s^{3} + 11s + 6}$\n",
    "\n",
    "$b. F_2 (s) = \\Large\\frac{s^{2} + 2s + 1}{(s + 2)^{3}}$\n",
    "\n",
    "$c. F_3 (s) = \\Large\\frac{2s + 3}{s^{3} + 6s^{2} + 21s + 26}$\n",
    "\n",
    "$d. F_4 (s) = \\Large\\frac{1 + 2e^{-s}}{s^{2} + 3s + 2}$"
   ]
  },
  {
   "cell_type": "markdown",
   "id": "6d5f0f35-1acc-40d8-8015-531b81c398c5",
   "metadata": {},
   "source": [
    "## Base Teórica\n",
    "\n",
    "Uma das formas de apresentação de um sistema LTI (Linear Time-Invariant) é o **Modelo de Entrada e Saída**, ou IO Model. Nesse modelo, o sistema é representado como uma (em um sistema SISO) ou mais (em um sistema MIMO) equações diferenciais. Vamos focar em um sistema SISO, então:\n",
    "\n",
    "$$\n",
    "h \\Big( y(t), \\ \\dot{y}(t), ..., \\ y^n (t), u(t), \\dot{u}(t), ..., \\ u^m (t) \\Big) = 0 \\\\\n",
    "$$\n",
    "\n",
    "Para resolver essa equação, precisamos da **Transformada de Laplace**, que transfere a função do domínio do tempo para o domínio da frequência, onde ela pode ser resolvida algebricamente. Nesse processo, é comum passas a representar o sistema como uma função de transferência, que correlaciona a entrada e a saída:\n",
    "\n",
    "$$\n",
    "F(s) = \\frac{N(s)}{D(s)}\n",
    "$$\n",
    "\n",
    "Onde o numerador $N(s)$ representa a saída do sistema e o denominador $D(s)$, também chamado de polinômio característico, representa a entrada do sistema. A partir daí, para resolver o sistema, precisamos fazer 3 passos:\n",
    "\n",
    "1. Fatorar o polinômio característico;\n",
    "2. Decompor a função de transferência em frações parciais;\n",
    "3. Aplicar a inversa de laplace em cada fração parcial.\n",
    "\n",
    "Esses são os três passos que serão demonstrados nos items abaixo."
   ]
  },
  {
   "cell_type": "markdown",
   "id": "786ce8fa-f9cd-4d96-b530-671548319521",
   "metadata": {},
   "source": [
    "## Item a)\n",
    "\n",
    "$a. F_1 (s) = \\Large\\frac{3s^{2} + 5s}{s^{3} + 6s^{3} + 11s + 6}$\n",
    "\n",
    "Para resolver o item a, primeiro precisamos fatorar o denominador da função de transferência, para nos possibilitar a decomposição em frações parciais. Por inspeção, percebesse que $s = -1$ é raíz do denominados $D_1 (s) = s^{3} + 6s^{3} + 11s + 6$, logo, podemos farotar $D(s)$ em  função do termo $(s + 1)$:\n",
    "\n",
    "$$ D_1 (s) = (s + 1)(s^{2} + 5s + 6) $$\n",
    "\n",
    "Após fazermos isso, podemos notar, por Girard, que:\n",
    "\n",
    "$$\n",
    "s_{2} + s_{3} = -5 \\\\\n",
    "s_{2}s_{3} = 6\n",
    "$$\n",
    "\n",
    "Onde $ \\ s_{2} \\ e \\ s_{3} \\ $ são as raízes do termo $(s^{2} + 5s + 6)$. Logo, percebemos que as raízes são $s_{2} = -2 \\ e \\ s_{2} = -3$. $D_1 (s)$ pode ser escrita como:\n",
    "\n",
    "$$ D(s) = (s + 1)(s + 2)(s + 3) $$\n",
    "\n",
    "Assim, podemos reescrever a função $F_1 (s)$ como:\n",
    "\n",
    "$$ F_1 (s) = \\frac{3s^{2} + 5s}{(s + 1)(s + 2)(s + 3)} $$\n",
    "\n",
    "Agora, podemos finalmente decompor a função de transferência $F_1 (s)$ como:\n",
    "\n",
    "$$ F_1 (s) = \\frac{3s^{2} + 5s}{(s + 1)(s + 2)(s + 3)} = \\frac{A}{(s + 1)} + \\frac{B}{(s + 2)} + \\frac{C}{(s + 3)}$$\n",
    "\n",
    "Para cada fração parcial de $F_1 (s)$, podemos achar o denominador simplesmente achando o valor de $(s - s_i)F_1 (s)\\vert_{s \\to s_i}$, onde $(s-s_i)$ é o denominador da fração parcial. No caso do item a, podemos fazer da seguinte forma:\n",
    "\n",
    "$$\n",
    "A = (s + 1)F_1 (s) \\vert_{s \\to -1} = \\frac{3(-1)^{2} + 5(-1)}{(-1 + 2)(-1 + 3)} = \\frac{3 - 5}{2} = -1 \\\\\n",
    "B = (s + 2)F_1 (s) \\vert_{s \\to -2} = \\frac{3(-2)^{2} + 5(-2)}{(-2 + 1)(-2 + 3)} = \\frac{3 \\cdot 4 - 5 \\cdot 2}{-1} = -2 \\\\\n",
    "C = (s + 3)F_1 (s) \\vert_{s \\to -3} = \\frac{3(-3)^{2} + 5(-3)}{(-3 + 1)(-3 + 2)} = \\frac{3 \\cdot 9 - 5 \\cdot 3}{2} = 6\n",
    "$$\n",
    "\n",
    "Dessa forma, podemos escrever nossa função de transfrência $F_1 (s)$ como:\n",
    "\n",
    "$$ F_1 (s) = \\frac{3s^{2} + 5s}{(s + 1)(s + 2)(s + 3)} =  \\frac{-1}{(s + 1)} + \\frac{-2}{(s + 2)} + \\frac{6}{(s + 3)} $$\n",
    "\n",
    "Em python, primeiro devemos declarar nossa função de transferência:"
   ]
  },
  {
   "cell_type": "code",
   "execution_count": 1,
   "id": "f328066c-35fb-4eeb-91b5-a46a391ce15a",
   "metadata": {},
   "outputs": [
    {
     "data": {
      "text/latex": [
       "$\\displaystyle \\frac{3 s^{2} + 5 s}{s^{3} + 6 s^{2} + 11 s + 6}$"
      ],
      "text/plain": [
       "(3*s**2 + 5*s)/(s**3 + 6*s**2 + 11*s + 6)"
      ]
     },
     "execution_count": 1,
     "metadata": {},
     "output_type": "execute_result"
    }
   ],
   "source": [
    "import sympy as sym\n",
    "from sympy.abc import s,t\n",
    "\n",
    "F1 = (3*(s**2) + 5*s)/(s**3 + 6*(s**2) + 11*s + 6)\n",
    "\n",
    "F1"
   ]
  },
  {
   "cell_type": "markdown",
   "id": "f738dcfc-2f8d-4463-bf03-3d7ae3757bf8",
   "metadata": {},
   "source": [
    "Podemos fazer a decomposição em frações parciais usando a função `apart()` da biblioteca `sympy`. Mesmo que isso não seja necessário para fazer a inversa da transformada de laplace, vamos fazer para checar se nossas contas manuais estão corretas."
   ]
  },
  {
   "cell_type": "code",
   "execution_count": 2,
   "id": "718b34ed-9040-423d-8b14-11ed23af233f",
   "metadata": {},
   "outputs": [
    {
     "data": {
      "text/latex": [
       "$\\displaystyle \\frac{6}{s + 3} - \\frac{2}{s + 2} - \\frac{1}{s + 1}$"
      ],
      "text/plain": [
       "6/(s + 3) - 2/(s + 2) - 1/(s + 1)"
      ]
     },
     "execution_count": 2,
     "metadata": {},
     "output_type": "execute_result"
    }
   ],
   "source": [
    "F1_pf = sym.apart(F1)\n",
    "\n",
    "F1_pf"
   ]
  },
  {
   "cell_type": "markdown",
   "id": "1d1e8655-5bf7-4cdd-ace6-007419774664",
   "metadata": {},
   "source": [
    "Com as frações parciais disponíveis, podemos aplicar a inversa de laplace $ \\mathcal{L}^{-1}\\Big[\\frac{1}{s + a}\\Big] = e^{-at}$ em cada fração parcial. Veja:\n",
    "\n",
    "$$ \n",
    "\\mathcal{L}^{-1}\\Big[\\frac{-1}{(s + 1)}\\Big] = -e^{-t} \\\\\n",
    "\\mathcal{L}^{-1}\\Big[\\frac{-2}{(s + 2)}\\Big] = -2e^{-2t} \\\\\n",
    "\\mathcal{L}^{-1}\\Big[\\frac{6}{(s + 3}\\Big] = 6e^{-3t}\n",
    "$$\n",
    "\n",
    "Assim, podemos escrever nossa função $f_1 (t)$ como o resultado da transformada inversa de laplace na função de transferência $F_1 (s)$:\n",
    "\n",
    "$$ f_{1}(t) = \\mathcal{L}^{-1}[F_{1}(s)] = -e^{-t}-2e^{-2t}+6e^{-3t} $$\n",
    "\n",
    "Em python, podemos fazer a transformada inversa de laplace com a função `inverse_laplace_transform()` da biblioteca `sympy`. Fica assim:"
   ]
  },
  {
   "cell_type": "code",
   "execution_count": 3,
   "id": "05079639-5e80-45ac-9a44-86ffc05fcc1b",
   "metadata": {},
   "outputs": [
    {
     "data": {
      "text/latex": [
       "$\\displaystyle \\left(- e^{2 t} - 2 e^{t} + 6\\right) e^{- 3 t} \\theta\\left(t\\right)$"
      ],
      "text/plain": [
       "(-exp(2*t) - 2*exp(t) + 6)*exp(-3*t)*Heaviside(t)"
      ]
     },
     "execution_count": 3,
     "metadata": {},
     "output_type": "execute_result"
    }
   ],
   "source": [
    "f1 = sym.inverse_laplace_transform(F1, s, t)\n",
    "\n",
    "f1"
   ]
  },
  {
   "cell_type": "markdown",
   "id": "df555a68-77c2-4946-ac35-1d2f230743f6",
   "metadata": {},
   "source": [
    "Perceba que o programa colocou $e^{-3t}$ em evidência em todos os termos. Porém, ao expandirmos o resultado, percebemos que ele está certo."
   ]
  },
  {
   "cell_type": "markdown",
   "id": "d1c32529-857f-48a4-9b4e-cd71e8acc92f",
   "metadata": {},
   "source": [
    "## Item B\n",
    "\n",
    "$b. F_2 (s) = \\Large\\frac{s^{2} + 2s + 1}{(s + 2)^{3}}$\n",
    "\n",
    "Perceba que o denominador $D_2 (s)$ da função $F_2 (s)$ já está fatorado, mas apresenta uma raíz com multiplicidade maior do que 1, ou seja, um dos fatores possui grau maior que 1. Nesse caso, a decomposição em frações parciais gera uma fração para cada natural menor ou igual ao grau do fator. No caso item B, temos uma raíz com multiplicidade 3, resultando na seguinte decomposição:\n",
    "\n",
    "$$\n",
    "F_2 (s) = \\frac{s^{2} + 2s + 1}{(s + 2)^{3}} = \\frac{A_0 }{(s + 2)^{3}} + \\frac{A_1 }{(s + 2)^{2}} + \\frac{A_2 }{s + 2}\n",
    "$$\n",
    "\n",
    "Nesse caso, sabendo que $i! \\cdot A_i = F^{(n)} (s)\\vert_{s \\to s_i}$, para todo $i \\ge 1$ e mantendo a estratégia do item anterior no caso de $A_0$:\n",
    "\n",
    "$$\n",
    "\\begin{align} \n",
    "A_0  &= (s+2)^{3}F_2(s) \\vert_{s \\to -2} = (-2)^{2} + 2 \\cdot (-2) + 1 = 1 \\\\\n",
    "A_1  &= F_2'(s) \\vert_{s \\to -2} = 2 \\cdot (-2) + 2 = -2 \\\\\n",
    "A_2  &= \\frac{F_2''(s) \\vert_{s \\to -2}}{2!} = \\dfrac{s(2s + 2)}{ds} \\Big\\vert_{s \\to -2} = \\frac{2}{2} = 1\n",
    "\\end{align} \n",
    "$$\n",
    "\n",
    "Finalmente, achamos a nossa função decomposta em frações parciais como:\n",
    "\n",
    "$$\n",
    "F_2 (s) = \\frac{1}{(s + 2)^{3}} + \\frac{-2}{(s + 2)^{2}} + \\frac{1}{s + 2}\n",
    "$$\n",
    "\n",
    "Em python:"
   ]
  },
  {
   "cell_type": "code",
   "execution_count": 4,
   "id": "f0455245-ba18-47ca-ac53-ab5a85b55263",
   "metadata": {},
   "outputs": [
    {
     "data": {
      "text/latex": [
       "$\\displaystyle \\frac{s^{2} + 2 s + 1}{\\left(s + 2\\right)^{3}}$"
      ],
      "text/plain": [
       "(s**2 + 2*s + 1)/(s + 2)**3"
      ]
     },
     "execution_count": 4,
     "metadata": {},
     "output_type": "execute_result"
    }
   ],
   "source": [
    "F2 = (s**2 + 2*s +1)/(s + 2)**3\n",
    "\n",
    "F2"
   ]
  },
  {
   "cell_type": "code",
   "execution_count": 5,
   "id": "08059196-d2db-438f-8872-6813a4cf5860",
   "metadata": {},
   "outputs": [
    {
     "data": {
      "text/latex": [
       "$\\displaystyle \\frac{1}{s + 2} - \\frac{2}{\\left(s + 2\\right)^{2}} + \\frac{1}{\\left(s + 2\\right)^{3}}$"
      ],
      "text/plain": [
       "1/(s + 2) - 2/(s + 2)**2 + (s + 2)**(-3)"
      ]
     },
     "execution_count": 5,
     "metadata": {},
     "output_type": "execute_result"
    }
   ],
   "source": [
    "F2_pf = sym.apart(F2)\n",
    "\n",
    "F2_pf"
   ]
  },
  {
   "cell_type": "markdown",
   "id": "56a22cc1-cd74-4a61-a584-6a3f031e1cef",
   "metadata": {},
   "source": [
    "Podemos aplicar agora a inversa de laplace $ \\mathcal{L}^{-1}\\Big[\\frac{1}{((s + a)^{n}}\\Big] = \\frac{1}{(n-1)!}t^{n-1}e^{-at}$ para calcular cada termo da nossa função $f_2 (t)$:\n",
    "\n",
    "$$\n",
    "f_2 (t) = e^{-2t} - 2te^{-2t} + \\frac{1}{2}t²e^{-2t}\n",
    "$$\n",
    "\n",
    "Em python:"
   ]
  },
  {
   "cell_type": "code",
   "execution_count": 6,
   "id": "9e8a5ee5-b1d6-40a1-a152-4a5ce7dbc38b",
   "metadata": {},
   "outputs": [
    {
     "data": {
      "text/latex": [
       "$\\displaystyle \\frac{\\left(t^{2} - 4 t + 2\\right) e^{- 2 t} \\theta\\left(t\\right)}{2}$"
      ],
      "text/plain": [
       "(t**2 - 4*t + 2)*exp(-2*t)*Heaviside(t)/2"
      ]
     },
     "execution_count": 6,
     "metadata": {},
     "output_type": "execute_result"
    }
   ],
   "source": [
    "f2 = sym.inverse_laplace_transform(F2, s, t)\n",
    "\n",
    "f2"
   ]
  },
  {
   "cell_type": "markdown",
   "id": "8606d2c1-234f-4d6f-a0a9-a87ad02f23ea",
   "metadata": {},
   "source": [
    "Novamente, perceba que o programa coloca $\\large\\frac{e^{-2t}}{2}$ em evidência, mas achamos a resposta correta."
   ]
  },
  {
   "cell_type": "markdown",
   "id": "1d28fadd-b3ab-4b42-a8ec-5c8426abef06",
   "metadata": {},
   "source": [
    "## Item C\n",
    "\n",
    "$c. F_3 (s) = \\Large\\frac{2s + 3}{s^{3} + 6s^{2} + 21s + 26}$\n",
    "\n",
    "Na função $F_3(s)$, percebemos por inspeção que $D_3(s)$ possui $-2$ como raíz, logo:\n",
    "\n",
    "$$c. F_3 (s) = \\frac{2s + 3}{(s + 2)(s² + 4s + 13)}$$"
   ]
  },
  {
   "cell_type": "markdown",
   "id": "4e5f89b6-f02d-4c81-b2a2-39059664ead2",
   "metadata": {},
   "source": [
    "Por baskara, percebemos que as raízes de $(s² + 4s + 13)$ são os complexos conjugados $-2+3i \\ e \\ -2-3i$. Logo, nossa decomposição em frações parciais fica da seguinte forma:\n",
    "\n",
    "$$F_3 (s) = \\frac{2s + 3}{(s+2)(s+2+3i)(s+2-3i)} = \\frac{A}{(s+2)} + \\frac{B}{(s+2+3i)} + \\frac{C}{(s+2-3i)}$$"
   ]
  },
  {
   "cell_type": "markdown",
   "id": "ba136e1a-86dc-4ce9-903f-45cd18fa68a6",
   "metadata": {},
   "source": [
    "Podemos achar $A, \\ B \\ e \\ C$ da seguinte forma:\n",
    "\n",
    "$$\n",
    "\\begin{align} \n",
    "A &= (s + 2)F_1 (s) \\vert_{s \\to -2} = \\frac{2 \\cdot (-2) + 3}{(-2)² + 4(-2) + 13} = \\frac{-1}{4-8+13} = \\frac{-1}{9} \\\\\n",
    "B &= (s + 2 + 3i)F_1 (s) \\vert_{s \\to -2-3i} = \\frac{2(-2-3i)+3}{(-2-3i+2)(-2-3i+2+3i)} = \\frac{1+6i}{18} \\\\\n",
    "C &= (s + 2 - 3i)F_1 (s) \\vert_{s \\to -2+3i} = \\frac{2(-2+3i)+3}{(-2+3i+2)(-2+3i+2+3i)} = \\frac{1-6i}{18}\n",
    "\\end{align} \n",
    "$$\n",
    "\n",
    "Logo, nossa finção de transferência decomposta em frações parciais fica:\n",
    "\n",
    "$$\n",
    "F_3 (s) = \\frac{-1}{9(s+2)} + \\frac{1+6i}{18(s+2+3i)} + \\frac{1-6i}{18(s+2-3i)}\n",
    "$$\n",
    "\n",
    "Em python:"
   ]
  },
  {
   "cell_type": "code",
   "execution_count": 7,
   "id": "6264b884-bb22-401a-8f94-05fe8584e240",
   "metadata": {},
   "outputs": [
    {
     "data": {
      "text/latex": [
       "$\\displaystyle \\frac{2 s + 3}{s^{3} + 6 s^{2} + 21 s + 26}$"
      ],
      "text/plain": [
       "(2*s + 3)/(s**3 + 6*s**2 + 21*s + 26)"
      ]
     },
     "execution_count": 7,
     "metadata": {},
     "output_type": "execute_result"
    }
   ],
   "source": [
    "F3 = (2*s + 3)/(s**3 + 6*(s**2) + 21*s + 26)\n",
    "\n",
    "F3"
   ]
  },
  {
   "cell_type": "code",
   "execution_count": 8,
   "id": "c36206c2-b610-4c28-8f07-e42af8296a0d",
   "metadata": {},
   "outputs": [
    {
     "data": {
      "text/latex": [
       "$\\displaystyle \\frac{s + 20}{9 \\left(s^{2} + 4 s + 13\\right)} - \\frac{1}{9 \\left(s + 2\\right)}$"
      ],
      "text/plain": [
       "(s + 20)/(9*(s**2 + 4*s + 13)) - 1/(9*(s + 2))"
      ]
     },
     "execution_count": 8,
     "metadata": {},
     "output_type": "execute_result"
    }
   ],
   "source": [
    "F3_pf = sym.apart(F3)\n",
    "\n",
    "F3_pf"
   ]
  },
  {
   "cell_type": "markdown",
   "id": "2875bc9d-d817-45d3-96a1-15cdb154854b",
   "metadata": {},
   "source": [
    "Perceba que o programa não decompôs $F_3(s)$ em frações parciais com denominador complexo e colocou um termo com denominador quadrático representando a soma dessas frações.\n",
    "\n",
    "Faremos algo parecido, mas racionalizando cada fração com denominador complexo:\n",
    "\n",
    "$$\n",
    "\\begin{align} \n",
    "D &= \\frac{B}{(s+2+3i)} + \\frac{C}{(s+2-3i)} \\\\\n",
    "D &= \\frac{1}{18}\\Big(\\frac{1+6i}{(s+2+3i)} + \\frac{1-6i}{(s+2-3i)}\\Big) \\\\\n",
    "D &= \\frac{1}{18}\\Big(\\frac{(s+2-3i)(1+61)+(s+2+3i)(1-61)}{(s+2)²+3²}\\Big) \\\\\n",
    "D &= \\frac{1}{9}\\Big(\\frac{(s+2)+2 \\cdot 3²}{(s+2)²+3²}\\Big) \\\\\n",
    "D &= \\frac{1}{9}\\Big(\\frac{(s+2)}{(s+2)²+3²}\\Big) + \\frac{2}{3}\\Big(\\frac{3}{(s+2)²+3²}\\Big)\n",
    "\\end{align} \n",
    "$$\n",
    "\n",
    "Logo:\n",
    "\n",
    "$$\n",
    "F_3 (s) = \\frac{-1}{9(s+2)}  + \\frac{1}{9}\\Big(\\frac{(s+2)}{(s+2)²+3²}\\Big) + \\frac{2}{3}\\Big(\\frac{3}{(s+2)²+3²}\\Big)\n",
    "$$\n",
    "\n",
    "Podemos usar as inversas de Laplace $ \\mathcal{L}^{-1}\\Big[\\frac{\\omega}{((s + a)^{2} + \\omega²}\\Big] = e^{-at}\\sin(\\omega t)$ e $ \\mathcal{L}^{-1}\\Big[\\frac{s+a}{((s + a)^{2} + \\omega²}\\Big] = e^{-at}\\cos(\\omega t)$ para achar a função $f_3(t)$:\n",
    "\n",
    "$$\n",
    "f_3(t) = \\frac{-1}{9}e^{-2t} + \\frac{1}{9}e^{-2t}\\cos(3t) + \\frac{2}{3}e^{-2t}\\sin(3t)\n",
    "$$\n",
    "\n",
    "Em python:"
   ]
  },
  {
   "cell_type": "code",
   "execution_count": 9,
   "id": "c5c8a4d0-2a32-4461-90b0-3312e41e3192",
   "metadata": {},
   "outputs": [
    {
     "data": {
      "text/latex": [
       "$\\displaystyle \\frac{\\left(6 \\sin{\\left(3 t \\right)} + \\cos{\\left(3 t \\right)} - 1\\right) e^{- 2 t} \\theta\\left(t\\right)}{9}$"
      ],
      "text/plain": [
       "(6*sin(3*t) + cos(3*t) - 1)*exp(-2*t)*Heaviside(t)/9"
      ]
     },
     "execution_count": 9,
     "metadata": {},
     "output_type": "execute_result"
    }
   ],
   "source": [
    "f3 = sym.inverse_laplace_transform(F3, s, t)\n",
    "\n",
    "f3"
   ]
  },
  {
   "cell_type": "markdown",
   "id": "4cd5c5e7-7dcd-47ae-ab21-afa75468ee8a",
   "metadata": {},
   "source": [
    "Perceba que o programa colocou $\\large\\frac{e^{}-2t}{9}$ em evidência, mas temos a resposta correta."
   ]
  },
  {
   "cell_type": "markdown",
   "id": "498d1ad5-e084-4117-8c85-cae9a73361b1",
   "metadata": {},
   "source": [
    "## Item D\n",
    "\n",
    "$d. F_4 (s) = \\Large\\frac{1 + 2e^{-s}}{s^{2} + 3s + 2}$\n",
    "\n",
    "Por Girard, percebemos que as raízes do denominador $D_4(s)$ de $F_4(s)$ são $s_1 = -1 e s_2 = -2$. Logo:\n",
    "\n",
    "$$F_4 (s) = \\frac{1 + 2e^{-s}}{(s+1)(s+2)} = \\frac{1}{(s+1)(s+2)}+\\frac{2e^{-s}}{(s+1)(s+2)}$$\n",
    "\n",
    "Utilizando as mesmas estratégias para a primeira parcela, temos que:\n",
    "\n",
    "$$\n",
    "\\frac{1}{(s+1)(s+2)} = \\frac{A_1}{(s+1)} + \\frac{B_1}{(s+2)}\n",
    "$$\n",
    "\n",
    "Assim:\n",
    "\n",
    "$$\n",
    "\\begin{align}\n",
    "A_1 &= (s + 1)F_4 (s) \\vert_{s \\to -1} = \\frac{1}{(-1+2)} = 1 \\\\\n",
    "B_1 &= (s + 2)F_4 (s) \\vert_{s \\to -2} = \\frac{1}{(-2+1)} = -1\n",
    "\\end{align}\n",
    "$$\n",
    "\n",
    "Na segunda parcela, podemos colocar $2e⁻s$ em evidência e fazer a mesma decomposição, $F_4(s)$ fica assim:\n",
    "\n",
    "$$\n",
    "F_4(s) = \\frac{1}{(s+1)} + \\frac{-1}{(s+2)} + \\frac{2e^{-s}}{(s+1)} + \\frac{-2s^{-s}}{(s+2)}\n",
    "$$\n",
    "\n",
    "Em python, não conseguimos decompor uma função com numerador não polinomial usando `sym.apart()`, então vamos separar manualmente a função $F_4(s)$:"
   ]
  },
  {
   "cell_type": "code",
   "execution_count": 10,
   "id": "b76c61f3-318f-446b-b902-0f45147d1821",
   "metadata": {},
   "outputs": [
    {
     "data": {
      "text/latex": [
       "$\\displaystyle \\frac{1}{s^{2} + 3 s + 2} + \\frac{2 e^{- s}}{s^{2} + 3 s + 2}$"
      ],
      "text/plain": [
       "1/(s**2 + 3*s + 2) + 2*exp(-s)/(s**2 + 3*s + 2)"
      ]
     },
     "execution_count": 10,
     "metadata": {},
     "output_type": "execute_result"
    }
   ],
   "source": [
    "F4_1 = (1)/(s**2 + 3*s + 2)\n",
    "\n",
    "F4 = F4_1 + 2*sym.exp(-s)*F4_1\n",
    "\n",
    "F4"
   ]
  },
  {
   "cell_type": "code",
   "execution_count": 11,
   "id": "2dd48e82-50a9-4082-a704-6bd7c33cf10d",
   "metadata": {},
   "outputs": [
    {
     "data": {
      "text/latex": [
       "$\\displaystyle 2 \\left(- \\frac{1}{s + 2} + \\frac{1}{s + 1}\\right) e^{- s} - \\frac{1}{s + 2} + \\frac{1}{s + 1}$"
      ],
      "text/plain": [
       "2*(-1/(s + 2) + 1/(s + 1))*exp(-s) - 1/(s + 2) + 1/(s + 1)"
      ]
     },
     "execution_count": 11,
     "metadata": {},
     "output_type": "execute_result"
    }
   ],
   "source": [
    "F4_1pf = sym.apart(F4_1)\n",
    "\n",
    "F4_pf = F4_1pf + 2*sym.exp(-s)*F4_1pf\n",
    "\n",
    "F4_pf"
   ]
  },
  {
   "cell_type": "markdown",
   "id": "b0b52eb3-5bee-4825-8bf8-dab23f71d402",
   "metadata": {},
   "source": [
    "\n",
    "Sabendo que a inversa de $ \\mathcal{L}^{-1}[e^{-\\alpha t}F(s)] = f(t-\\alpha)u(t-\\alpha)$, onde $u(t-\\alpha)$ é o degral unitário na translação do tempo, podemos achar a inversa $f_4(t)$ como:\n",
    "\n",
    "$$ f_4(t) = e^{-t} - e^{-2t} + (2e^{1-t} - 2e^{2-2t})u(t-1)$$\n",
    "\n",
    "Em pyhton:"
   ]
  },
  {
   "cell_type": "code",
   "execution_count": 12,
   "id": "4dfd6350-f00a-4898-8915-40130c33a577",
   "metadata": {},
   "outputs": [
    {
     "data": {
      "text/latex": [
       "$\\displaystyle \\left(- \\left(1 - e^{t}\\right) \\theta\\left(t\\right) + 2 \\left(1 - e^{1 - t}\\right) e^{t + 1} \\theta\\left(t - 1\\right)\\right) e^{- 2 t}$"
      ],
      "text/plain": [
       "(-(1 - exp(t))*Heaviside(t) + 2*(1 - exp(1 - t))*exp(t + 1)*Heaviside(t - 1))*exp(-2*t)"
      ]
     },
     "execution_count": 12,
     "metadata": {},
     "output_type": "execute_result"
    }
   ],
   "source": [
    "f4 = sym.inverse_laplace_transform(F4, s, t)\n",
    "\n",
    "f4"
   ]
  },
  {
   "cell_type": "markdown",
   "id": "387630b4-381b-4fce-b26e-5729f36eb283",
   "metadata": {},
   "source": [
    "Perceba que, como de costume, o programa colocou alguns termos em evidência, mas nos deu uma resposta correta."
   ]
  }
 ],
 "metadata": {
  "kernelspec": {
   "display_name": "Python 3 (ipykernel)",
   "language": "python",
   "name": "python3"
  },
  "language_info": {
   "codemirror_mode": {
    "name": "ipython",
    "version": 3
   },
   "file_extension": ".py",
   "mimetype": "text/x-python",
   "name": "python",
   "nbconvert_exporter": "python",
   "pygments_lexer": "ipython3",
   "version": "3.10.12"
  }
 },
 "nbformat": 4,
 "nbformat_minor": 5
}
