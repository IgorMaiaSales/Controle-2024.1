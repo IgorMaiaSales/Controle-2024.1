{
 "cells": [
  {
   "cell_type": "markdown",
   "id": "39d6a2d9-0dbb-4dcb-8969-12d0da6677b2",
   "metadata": {},
   "source": [
    "## Exercise 3\n",
    "\n",
    "Considere o modelo de entrada-saída na equação\n",
    "\n",
    "$$ \\frac{d²y(t)}{dt²} + 2\\frac{dy(t)}{dt} + y(t) = 4\\frac{d²u(t)}{du²} + 15\\frac{du(t)}{du} + 19u(t)$$\n",
    "\n",
    "1. Defina o polinômio característico e represente graficamente os modos do sistema\n",
    "2. Dadas as condições iniciais na equação, encontre a evolução livre do sistema na equação\n",
    "\n",
    "$$ y(t)\\vert_{s \\to 0} = 1, \\ \\frac{dy(t)}{dt}\\Big\\vert_{s \\to 0} = 1 $$\n",
    "\n",
    "3. Encontre a resposta forçada do sistema sujeito a uma entrada em degrau unitário\n",
    "4. Por meio da linguagem de programação de sua escolha, plote a resposta y(t) e comente seus resultados\n"
   ]
  },
  {
   "cell_type": "markdown",
   "id": "284a2abb-511f-4e59-b7ce-f621c7aa0353",
   "metadata": {},
   "source": [
    "## Parte 1\n",
    "\n",
    "1. Defina o polinômio característico e represente graficamente os modos do sistema\n",
    "\n",
    "Considerando todas as condições iniciais iguais a zero, a transformada de laplace da equação pode ser dada por\n",
    "\n",
    "$$\n",
    "(s² + 2s + 1)Y(s) = (4s² + 15s + 19)U(s) \\\\\n",
    "\\therefore F(s) = \\frac{Y(s)}{U(s)} = \\frac{4s² + 15s + 19}{s² + 2s + 1}\n",
    "$$\n",
    "\n",
    "Logo, o polinômio característico pode ser dado pelo denominador $D(s)$ da função de transferência $F(s)$. Por produtos notáveis, $D(s)$ pode ser escrito como:\n",
    "\n",
    "$$\n",
    "D(s) = s² + 2s + 1 = (s+1)²\n",
    "$$\n",
    "\n",
    "Os modos do sistema são definidos como as raízes do polinômio característico, também conhecidos como os **polos** do sistema. Logo, o sistema possui dois modos reais negativos iguais a -1. Podemos plotar essas raízes no plano de Argard-Gauss, também conhecido como plano dos complexos. Em python, podemos fazer da seguinte forma:"
   ]
  },
  {
   "cell_type": "code",
   "execution_count": 6,
   "id": "80d5e890-fc02-4ce5-9955-985e9ddebf26",
   "metadata": {},
   "outputs": [
    {
     "data": {
      "image/png": "[encoded data removed]",
      "text/plain": [
       "<Figure size 640x480 with 1 Axes>"
      ]
     },
     "metadata": {},
     "output_type": "display_data"
    }
   ],
   "source": [
    "import matplotlib.pyplot as plt\n",
    "import numpy as np\n",
    "\n",
    "data = np.array([-1, -1])\n",
    "\n",
    "x = data.real\n",
    "y = data.imag\n",
    "\n",
    "plt.plot(x, y, 'b*')\n",
    "plt.ylabel('Imaginary')\n",
    "plt.xlabel('Real')\n",
    "plt.grid()\n",
    "plt.show()"
   ]
  },
  {
   "cell_type": "markdown",
   "id": "4071b549-63ae-4075-b282-0051e379e87e",
   "metadata": {},
   "source": [
    "## Parte 2\n",
    "\n",
    "2. Dadas as condições iniciais na equação, encontre a evolução livre do sistema na equação\n",
    "\n",
    "Nesse caso, devemos levar em consideração a seguinte transformada de Laplace:\n",
    "\n",
    "$$\n",
    "\\mathcal{L}\\Big[ \\frac{d^nf(t)}{dt^n} \\Big] = s^nF(s) - \\sum\\limits_{k = 1}^{n}s^{n-k}f^{k-s}(0)\n",
    "$$\n",
    "\n",
    "Logo, aplicando a transformada de Laplace:\n",
    "\n",
    "$$\n",
    "s²Y(s) - sy(0) - \\dot{y}(0) + 2sY(s) -2y(0) + Y(s) = (4s² + 15s + 19)U(s) \\\\\n",
    "\\therefore (s² + 2s + 1)Y(s) - s - 3 = (4s² + 15s + 19)U(s) \\\\\n",
    "\\therefore (s² + 2s + 1)Y(s) = (4s² + 15s + 19)U(s) + s + 3 \\\\\n",
    "\\therefore Y(s) = \\underbrace{\\frac{4s² + 15s + 19}{s² + 2s + 1}U(s)}_{Forced \\ Response} + \\underbrace{\\frac{s + 3}{s² + 2s + 1}}_{Free \\ Response}\n",
    "$$\n",
    "\n",
    "Nesse caso, tudo que independe da entrada $U(s)$ é considerado como a resposta livre e tudo que depende de $U(s)$ é considerado como resposta forçada. Como queremos a evolução livre, primeiro precisamos decompor em frações parciais:\n",
    "\n",
    "$$\n",
    "Y_{Free}(s) = \\frac{s+3}{s² + 2s + 1} = \\frac{s+3}{(s+1)²} = \\frac{A_0}{(s+1)²} + \\frac{A_1}{s+1}\n",
    "$$\n",
    "\n",
    "Vamos achar A_0 e A_1 como já descrito no **Exercise 1**:\n",
    "\n",
    "$$\n",
    "A_0 = (s+1)²Y_{Free}(s) \\vert_{s \\to -1} = (-1 + 3) = 2 \\\\\n",
    "A_1 = \\frac{d(s+1)²Y_{Free}(s)}{ds} \\Big\\vert_{s \\to -1} = \\frac{d(s+3)}{ds} \\Big\\vert_{s \\to -1} = 1\n",
    "$$\n",
    "\n",
    "Logo:\n",
    "\n",
    "$$\n",
    "Y_{Free}(s) = \\frac{2}{(s+1)²} + \\frac{1}{s+1}\n",
    "$$\n",
    "\n",
    "Assim, aplicando a inversa de Laplace:\n",
    "\n",
    "$$\n",
    "y_{Free}(t) = e^{-t} + 2te^{-t}\n",
    "$$\n",
    "\n",
    "Em python, poderiamos usar a função `nlsys()` da biblioteca `control`para criar um modelo de entrada e saída não linear (que é nosso caso). Porém, ao invés disso, vamos aproveitar que já temos nossa função de transferência separada em parte Livre e Parte Forçada para resolver como já temos resolvido no decorrer desse trabalho:"
   ]
  },
  {
   "cell_type": "code",
   "execution_count": 12,
   "id": "3683f0d0-4760-46d3-a9e6-1d94bb3b83f8",
   "metadata": {},
   "outputs": [
    {
     "data": {
      "text/latex": [
       "$\\displaystyle \\frac{s + 3}{s^{2} + 2 s + 1}$"
      ],
      "text/plain": [
       "(s + 3)/(s**2 + 2*s + 1)"
      ]
     },
     "execution_count": 12,
     "metadata": {},
     "output_type": "execute_result"
    }
   ],
   "source": [
    "import sympy as sym\n",
    "from sympy.abc import s,t\n",
    "\n",
    "Yfree = (s + 3)/(s**2 + 2*s + 1)\n",
    "\n",
    "Yfree"
   ]
  },
  {
   "cell_type": "code",
   "execution_count": 13,
   "id": "a4b4bb79-f9db-48e2-91b6-803abccaece3",
   "metadata": {},
   "outputs": [
    {
     "data": {
      "text/latex": [
       "$\\displaystyle \\frac{1}{s + 1} + \\frac{2}{\\left(s + 1\\right)^{2}}$"
      ],
      "text/plain": [
       "1/(s + 1) + 2/(s + 1)**2"
      ]
     },
     "execution_count": 13,
     "metadata": {},
     "output_type": "execute_result"
    }
   ],
   "source": [
    "Yfree_pf = sym.apart(Yfree)\n",
    "\n",
    "Yfree_pf"
   ]
  },
  {
   "cell_type": "code",
   "execution_count": 14,
   "id": "4234eb1a-ecde-4d9e-8334-a52ca36e23a1",
   "metadata": {},
   "outputs": [
    {
     "data": {
      "text/latex": [
       "$\\displaystyle \\left(2 t + 1\\right) e^{- t} \\theta\\left(t\\right)$"
      ],
      "text/plain": [
       "(2*t + 1)*exp(-t)*Heaviside(t)"
      ]
     },
     "execution_count": 14,
     "metadata": {},
     "output_type": "execute_result"
    }
   ],
   "source": [
    "yfree = sym.inverse_laplace_transform(Yfree, s, t)\n",
    "\n",
    "yfree"
   ]
  },
  {
   "cell_type": "markdown",
   "id": "c9b7b2f6-a087-4d1d-b057-15f72e73c263",
   "metadata": {},
   "source": [
    "Agora, utilizando a biblioteca `control`, podemos achar a resposta livre do sistema como uma resposta ao impulso, já que, nesse caso, $U(s) = 1$. Observe:"
   ]
  },
  {
   "cell_type": "code",
   "execution_count": 7,
   "id": "90df3832-ba3a-42f4-b12a-64bb6520c6db",
   "metadata": {},
   "outputs": [
    {
     "data": {
      "text/latex": [
       "$$\\frac{s + 3}{s^2 + 2 s + 1}$$"
      ],
      "text/plain": [
       "TransferFunction(array([1, 3]), array([1, 2, 1]))"
      ]
     },
     "execution_count": 7,
     "metadata": {},
     "output_type": "execute_result"
    }
   ],
   "source": [
    "import control as ct\n",
    "\n",
    "num_free = [1, 3]\n",
    "den = [1, 2, 1]\n",
    "\n",
    "Y_free = ct.tf(num_free, den)\n",
    "\n",
    "Y_free"
   ]
  },
  {
   "cell_type": "code",
   "execution_count": 8,
   "id": "c7192120-c89d-49e1-b8f8-d529d2f09bf7",
   "metadata": {},
   "outputs": [
    {
     "data": {
      "image/png": "[encoded data removed]",
      "text/plain": [
       "<Figure size 640x480 with 1 Axes>"
      ]
     },
     "metadata": {},
     "output_type": "display_data"
    }
   ],
   "source": [
    "x_free, y_free = ct.impulse_response(Y_free)\n",
    "\n",
    "plt.plot(x_free, y_free)\n",
    "plt.show()"
   ]
  },
  {
   "cell_type": "markdown",
   "id": "9dcab83f-a1a7-46d5-bbe8-34e4d78a4c32",
   "metadata": {},
   "source": [
    "## Parte 3\n",
    "\n",
    "3. Encontre a resposta forçada do sistema sujeito a uma entrada em degrau unitário\n",
    "\n",
    "Como encontrado na **Parte 2**, a resposta forçada pode ser escrita como:\n",
    "\n",
    "$$\n",
    "Y_{Forced}(s) = \\frac{4s² + 15s + 19}{s² + 2s + 1}U(s)\n",
    "$$\n",
    "\n",
    "Como sabemos que $U(s) = \\frac{1}{s}$ no caso do degral unitário, podemos decompor a resposta forçada da seguinte forma:\n",
    "\n",
    "$$\n",
    "Y_{Forced}(s) = \\frac{4s² + 15s + 19}{s(s+1)²} = \\frac{B_0}{(s+1)²} + \\frac{B_1}{s+1} + \\frac{C}{s}\n",
    "$$\n",
    "\n",
    "Logo:\n",
    "\n",
    "$$\n",
    "B_0 = (s+1)²Y_{Forced}(s) \\vert_{s \\to -1} = \\frac{4(-1)² + 15(-1) + 19}{-1} = -8 \\\\\n",
    "B_1 = \\frac{d(s+1)²Y_{Forced}(s)}{ds} \\Big\\vert_{s \\to -1} = \\frac{d}{ds} \\frac{4s² + 15s + 19}{s} \\Big\\vert_{s \\to -1} = \\frac{(8s + 15)s - (4s² + 15s + 19}{s²} \\Big\\vert_{s \\to -1} = -15 \\\\\n",
    "C = (s)²Y_{Forced}(s) \\vert_{s \\to 0} = 19\n",
    "$$\n",
    "\n",
    "Logo:\n",
    "\n",
    "$$\n",
    "Y_{Forced}(s) = \\frac{-8}{(s+1)²} + \\frac{-15}{s+1} + \\frac{19}{s}\n",
    "$$\n",
    "\n",
    "Assim, aplicando a inversa de laplace:\n",
    "\n",
    "$$\n",
    "y_{Forced}(t) = 19 - 15e^{-t} -8te^{-t}\n",
    "$$\n",
    "\n",
    "Em python:"
   ]
  },
  {
   "cell_type": "code",
   "execution_count": 17,
   "id": "34f084e1-3446-4335-8494-e7655d05dab7",
   "metadata": {},
   "outputs": [
    {
     "data": {
      "text/latex": [
       "$\\displaystyle \\frac{4 s^{2} + 15 s + 19}{s \\left(s^{2} + 2 s + 1\\right)}$"
      ],
      "text/plain": [
       "(4*s**2 + 15*s + 19)/(s*(s**2 + 2*s + 1))"
      ]
     },
     "execution_count": 17,
     "metadata": {},
     "output_type": "execute_result"
    }
   ],
   "source": [
    "Yforced = (4*(s**2) + 15*s + 19)/(s*(s**2 + 2*s + 1))\n",
    "\n",
    "Yforced"
   ]
  },
  {
   "cell_type": "code",
   "execution_count": 18,
   "id": "c6c2abaf-f479-456b-9276-310bca1e7865",
   "metadata": {},
   "outputs": [
    {
     "data": {
      "text/latex": [
       "$\\displaystyle - \\frac{15}{s + 1} - \\frac{8}{\\left(s + 1\\right)^{2}} + \\frac{19}{s}$"
      ],
      "text/plain": [
       "-15/(s + 1) - 8/(s + 1)**2 + 19/s"
      ]
     },
     "execution_count": 18,
     "metadata": {},
     "output_type": "execute_result"
    }
   ],
   "source": [
    "Yforced_pf = sym.apart(Yforced)\n",
    "\n",
    "Yforced_pf"
   ]
  },
  {
   "cell_type": "code",
   "execution_count": 19,
   "id": "0602c337-fe79-4134-9fea-e54fabb2887c",
   "metadata": {},
   "outputs": [
    {
     "data": {
      "text/latex": [
       "$\\displaystyle \\left(- 8 t + 19 e^{t} - 15\\right) e^{- t} \\theta\\left(t\\right)$"
      ],
      "text/plain": [
       "(-8*t + 19*exp(t) - 15)*exp(-t)*Heaviside(t)"
      ]
     },
     "execution_count": 19,
     "metadata": {},
     "output_type": "execute_result"
    }
   ],
   "source": [
    "yforced = sym.inverse_laplace_transform(Yforced, s, t)\n",
    "\n",
    "yforced"
   ]
  },
  {
   "cell_type": "markdown",
   "id": "d89f54c8-c3f1-4e60-93f8-227e25fb4ef5",
   "metadata": {},
   "source": [
    "Utilizando a biblioteca `control`, podemos achar a resposta do sistema ao degrau unitário e plotar. Observe:"
   ]
  },
  {
   "cell_type": "code",
   "execution_count": 20,
   "id": "23abe4cd-8cb3-468c-8b31-f992127001f3",
   "metadata": {},
   "outputs": [
    {
     "data": {
      "text/latex": [
       "$$\\frac{4 s^2 + 15 s + 19}{s^2 + 2 s + 1}$$"
      ],
      "text/plain": [
       "TransferFunction(array([ 4, 15, 19]), array([1, 2, 1]))"
      ]
     },
     "execution_count": 20,
     "metadata": {},
     "output_type": "execute_result"
    }
   ],
   "source": [
    "num_forced = [4, 15, 19]\n",
    "den = [1, 2, 1]\n",
    "\n",
    "Y_forced = ct.tf(num_forced, den)\n",
    "\n",
    "Y_forced"
   ]
  },
  {
   "cell_type": "code",
   "execution_count": 21,
   "id": "63399e48-f5e3-434d-9408-ed85e90a24e6",
   "metadata": {},
   "outputs": [
    {
     "data": {
      "image/png": "[encoded data removed]",
      "text/plain": [
       "<Figure size 640x480 with 1 Axes>"
      ]
     },
     "metadata": {},
     "output_type": "display_data"
    }
   ],
   "source": [
    "x_forced, y_forced = ct.step_response(Y_forced)\n",
    "\n",
    "plt.plot(x_forced, y_forced)\n",
    "plt.show()"
   ]
  },
  {
   "cell_type": "markdown",
   "id": "954b96b7-32db-4386-b414-db5594b949b3",
   "metadata": {},
   "source": [
    "## Parte 4\n",
    "\n",
    "4. Por meio da linguagem de programação de sua escolha, plote a resposta y(t) e comente seus resultados\n",
    "\n",
    "Finalmente, podemos somar as respostas de $y_{Free}(t) \\ e \\ y_{Forced}(t)$ para achar nossa resposta final. \n",
    "\n",
    "$$\n",
    "y(t) = y_{Free}(t) + y_{Forced}(t) = (e^{-t} + 2te^{-t}) + (19 - 15e^{-t} -8te^{-t})\n",
    "$$\n",
    "\n",
    "Em python:"
   ]
  },
  {
   "cell_type": "code",
   "execution_count": 25,
   "id": "8821a32b-2750-4339-91c7-8436d8291469",
   "metadata": {},
   "outputs": [
    {
     "data": {
      "image/png": "[encoded data removed]",
      "text/plain": [
       "<Figure size 640x480 with 1 Axes>"
      ]
     },
     "metadata": {},
     "output_type": "display_data"
    }
   ],
   "source": [
    "x = x_free\n",
    "y = y_free + y_forced\n",
    "\n",
    "plt.plot(x_free, y_free, color='r', label='Free')\n",
    "plt.plot(x_forced, y_forced, color='g', label='Forced')\n",
    "plt.plot(x, y, color='b', label='Complete')\n",
    "\n",
    "plt.legend()\n",
    "plt.show()"
   ]
  },
  {
   "cell_type": "markdown",
   "id": "7fc0d76e-aec6-4cb6-9875-fb2441d84227",
   "metadata": {},
   "source": [
    "Observe que a resposta completa é levemente maior que a resposta forçada no início. Mas como a resposta livre decai à zero com o tempo, a resposta forçada se aproxima cada vez mais da resposta completa, deixado a resposta livre desprezivel."
   ]
  }
 ],
 "metadata": {
  "kernelspec": {
   "display_name": "Python 3 (ipykernel)",
   "language": "python",
   "name": "python3"
  },
  "language_info": {
   "codemirror_mode": {
    "name": "ipython",
    "version": 3
   },
   "file_extension": ".py",
   "mimetype": "text/x-python",
   "name": "python",
   "nbconvert_exporter": "python",
   "pygments_lexer": "ipython3",
   "version": "3.10.12"
  }
 },
 "nbformat": 4,
 "nbformat_minor": 5
}
