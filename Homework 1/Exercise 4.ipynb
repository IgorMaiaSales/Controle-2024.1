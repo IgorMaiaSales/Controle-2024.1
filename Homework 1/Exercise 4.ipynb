{
 "cells": [
  {
   "cell_type": "markdown",
   "id": "e5d96b56-212d-47da-9890-dbcb60b3cbc4",
   "metadata": {},
   "source": [
    "## Exercise 4\n",
    "\n",
    "Dado o modelo de espaço de estados em\n",
    "\n",
    "$$\n",
    "\\begin{cases}\n",
    "   \\begin{bmatrix} \\dot{x_1(t)} \\\\ \\dot{x_2(t)} \\end{bmatrix} = \\begin{bmatrix} 0 & 1 \\\\ -5 & -2 \\end{bmatrix}\\begin{bmatrix} x_1(t) \\\\ x_2(t) \\end{bmatrix} + \\begin{bmatrix} 0 \\\\ 2 \\end{bmatrix}u(t) \\\\\n",
    "   y(t) = \\begin{bmatrix} 0 & 1 \\end{bmatrix} \\begin{bmatrix} x_1(t) \\\\ x_2(t) \\end{bmatrix} + u(t)\n",
    "\\end{cases}\n",
    "$$\n",
    "\n",
    "1. Encontre a função de transferência correspondente $G(s) = Y(s)/U(s)$\n",
    "2. Encontre um modelo de entrada-saída equivalente ao modelo de espaço de estado\n",
    "3. Encontre a evolução forçada de estado e saída como resposta da entrada $u(t) = e^{-3t}$"
   ]
  },
  {
   "cell_type": "markdown",
   "id": "27b99dc7-07eb-4da7-af52-73e56a4eaa5d",
   "metadata": {},
   "source": [
    "## Parte 1\n",
    "\n",
    "1. Encontre a função de transferência correspondente $G(s) = Y(s)/U(s)$\n",
    "\n",
    "A função de transferência pode ser dada por:\n",
    "\n",
    "$$\n",
    "G(s) = \\frac{Y(s)}{U(s)} = C(sI - A)^{-1}B + D\n",
    "$$\n",
    "\n",
    "Onde:\n",
    "\n",
    "$$\n",
    "A = \\begin{bmatrix} 0 & 1 \\\\ -5 & -2 \\end{bmatrix}; \\ B = \\begin{bmatrix} 0 \\\\ 2 \\end{bmatrix}; \\ C = \\begin{bmatrix} 0 & 1 \\end{bmatrix}; \\ D = 1 \\\\ sI - A)^{-1} = \\frac{adj(sI - A)}{det(sI - A)}\n",
    "$$\n",
    "\n",
    "Logo:\n",
    "\n",
    "$$\n",
    "sI - A = s\\begin{bmatrix} 1 & 10\\\\ 0 & 1 \\end{bmatrix} - \\begin{bmatrix} 0 & 1 \\\\ -5 & -2 \\end{bmatrix} = \\begin{bmatrix} s & -1 \\\\ 5 & 2 + s \\end{bmatrix} \\\\\n",
    "\\therefore adj(sI - A) = \\begin{bmatrix} s + 2 & -5 \\\\ 1 & s \\end{bmatrix} \\\\\n",
    "\\therefore det(sI - A) = s(2 + s) + 5 = s² + 2s + 5 \\\\\n",
    "$$\n",
    "\n",
    "Então, podemo escrever $G(s)$ como:\n",
    "\n",
    "$$\n",
    "G(s) = \\frac{\\begin{bmatrix} 0 & 1 \\end{bmatrix}\\begin{bmatrix} s + 2 & -5 \\\\ 1 & s \\end{bmatrix}\\begin{bmatrix} 0 \\\\ 2 \\end{bmatrix}}{s² + 2s + 5} + 1 \\\\\n",
    "\\therefore G(s) = \\frac{\\begin{bmatrix} 1 & s \\end{bmatrix}\\begin{bmatrix} 0 \\\\ 2 \\end{bmatrix}}{s² + 2s + 5} \\\\\n",
    "\\therefore G(s) = \\frac{25}{s² + 2s + 5} + 1 \\\\\n",
    "\\therefore G(s) = \\frac{s² + 4s + 5}{s² + 2s + 5} = \\frac{Y(s)}{U(s)}\n",
    "$$\n",
    "\n",
    "Em python, podemos criar um sistema no espaço de estados com a função `ct.ss()` da biblioteca `control`. Para isso, devemos definir nossas matrizes:"
   ]
  },
  {
   "cell_type": "code",
   "execution_count": 2,
   "id": "8dca7992-3c54-4992-adef-e58a2e797b8d",
   "metadata": {},
   "outputs": [
    {
     "data": {
      "text/latex": [
       "$$\n",
       "\\left(\\begin{array}{rllrll|rll}\n",
       "0\\phantom{.}&\\hspace{-1em}&\\hspace{-1em}\\phantom{\\cdot}&1\\phantom{.}&\\hspace{-1em}&\\hspace{-1em}\\phantom{\\cdot}&0\\phantom{.}&\\hspace{-1em}&\\hspace{-1em}\\phantom{\\cdot}\\\\\n",
       "-5\\phantom{.}&\\hspace{-1em}&\\hspace{-1em}\\phantom{\\cdot}&-2\\phantom{.}&\\hspace{-1em}&\\hspace{-1em}\\phantom{\\cdot}&2\\phantom{.}&\\hspace{-1em}&\\hspace{-1em}\\phantom{\\cdot}\\\\\n",
       "\\hline\n",
       "0\\phantom{.}&\\hspace{-1em}&\\hspace{-1em}\\phantom{\\cdot}&1\\phantom{.}&\\hspace{-1em}&\\hspace{-1em}\\phantom{\\cdot}&1\\phantom{.}&\\hspace{-1em}&\\hspace{-1em}\\phantom{\\cdot}\\\\\n",
       "\\end{array}\\right)\n",
       "$$"
      ],
      "text/plain": [
       "StateSpace(array([[ 0.,  1.],\n",
       "       [-5., -2.]]), array([[0.],\n",
       "       [2.]]), array([[0., 1.]]), array([[1.]]))"
      ]
     },
     "execution_count": 2,
     "metadata": {},
     "output_type": "execute_result"
    }
   ],
   "source": [
    "import numpy as np\n",
    "import control as ct\n",
    "import matplotlib.pyplot as plt\n",
    "\n",
    "A = [[0, 1],[-5, -2]]\n",
    "B = [[0], [2]]\n",
    "C = [[0, 1]]\n",
    "D = [[1]]\n",
    "\n",
    "Sys = ct.ss(A, B, C, D)\n",
    "\n",
    "Sys"
   ]
  },
  {
   "cell_type": "markdown",
   "id": "4a76de6d-6b57-4cbe-ac8f-5354a17f34f9",
   "metadata": {},
   "source": [
    "Agora, podemos usar a função `ct.ss2tf()` para achar a função de transferência do nosso sistema:"
   ]
  },
  {
   "cell_type": "code",
   "execution_count": 3,
   "id": "8cb2e835-d77b-4360-bb44-52d17cda2cf4",
   "metadata": {},
   "outputs": [
    {
     "data": {
      "text/latex": [
       "$$\\frac{s^2 + 4 s + 5}{s^2 + 2 s + 5}$$"
      ],
      "text/plain": [
       "TransferFunction(array([1., 4., 5.]), array([1., 2., 5.]))"
      ]
     },
     "execution_count": 3,
     "metadata": {},
     "output_type": "execute_result"
    }
   ],
   "source": [
    "G = ct.ss2tf(Sys)\n",
    "\n",
    "G"
   ]
  },
  {
   "cell_type": "markdown",
   "id": "0f8c1005-5a5a-42bd-9b3a-95a5b3b1866c",
   "metadata": {},
   "source": [
    "Achamos uma função de transferência equivalente."
   ]
  },
  {
   "cell_type": "markdown",
   "id": "e8ba1917-3b7d-43c2-af38-68efe467b1d2",
   "metadata": {},
   "source": [
    "## Parte 2\n",
    "\n",
    "2. Encontre um modelo de entrada-saída equivalente ao modelo de espaço de estado\n",
    "\n",
    "Com a função de transferência em mãos, podemos simplesmente multiplicar os meios e os extremos achando a seguinte expressão:\n",
    "\n",
    "$$\n",
    "(s² + 2s + 5)Y(s) = (s² + 4s + 5)U(s) \\\\\n",
    "$$\n",
    "\n",
    "Aplicando a inversa de laplace, temos:\n",
    "\n",
    "$$\n",
    "\\therefore \\ddot{y}(t) + 2\\dot{y}(t) +5y(t) = \\ddot{u}(t) + 4\\dot{u}(t)\n",
    "$$\n",
    "\n",
    "E esse é nosso modelo de entrada e saída.\n",
    "\n",
    "Em python, poderíamos usar a função `ct.tf2io()` da biblioteca `control`, mas essa função foi descuntinuada na versão mais atual da biblioteca."
   ]
  },
  {
   "cell_type": "markdown",
   "id": "0640d749-d9ad-4371-815d-0955619735a1",
   "metadata": {},
   "source": [
    "## Parte 3\n",
    "\n",
    "3. Encontre a evolução forçada de estado e saída como resposta da entrada $u(t) = e^{-3t}$\n",
    "\n",
    "Para isso, vamos achar $U(s)$ aplicando a transformada de laplace em $u(t)$:\n",
    "\n",
    "$$\n",
    "\\mathcal{L}[ e^{-3t}] = \\frac{1}{s + 3} \\\\\n",
    "$$\n",
    "\n",
    "Nesse caso, nossa função resposta pode ser escrita como:\n",
    "\n",
    "$$\n",
    "Y(t) = G(t)U(t) = \\frac{s² + 4s + 5}{s² + 2s + 5} \\cdot \\frac{1}{s + 3} = \n",
    "$$\n",
    "\n",
    "Para isso, vamos criar uma nova função de transferência para representar $U(s)$ e multiplicar as funções:"
   ]
  },
  {
   "cell_type": "code",
   "execution_count": 5,
   "id": "61dd4b5e-5511-4edd-bc69-5a0bdda129d2",
   "metadata": {},
   "outputs": [
    {
     "data": {
      "text/latex": [
       "$$\\frac{1}{s + 3}$$"
      ],
      "text/plain": [
       "TransferFunction(array([1]), array([1, 3]))"
      ]
     },
     "execution_count": 5,
     "metadata": {},
     "output_type": "execute_result"
    }
   ],
   "source": [
    "U = ct.tf([1], [1, 3])\n",
    "\n",
    "U"
   ]
  },
  {
   "cell_type": "code",
   "execution_count": 6,
   "id": "a219ee33-b7c8-4036-9f5e-bb67681e9afc",
   "metadata": {},
   "outputs": [
    {
     "data": {
      "text/latex": [
       "$$\\frac{s^2 + 4 s + 5}{s^3 + 5 s^2 + 11 s + 15}$$"
      ],
      "text/plain": [
       "TransferFunction(array([1., 4., 5.]), array([ 1.,  5., 11., 15.]))"
      ]
     },
     "execution_count": 6,
     "metadata": {},
     "output_type": "execute_result"
    }
   ],
   "source": [
    "Y = G*U\n",
    "\n",
    "Y"
   ]
  },
  {
   "cell_type": "code",
   "execution_count": 8,
   "id": "15ef270f-4598-453b-896c-3bcb2620895b",
   "metadata": {},
   "outputs": [
    {
     "data": {
      "text/latex": [
       "$\\displaystyle \\frac{s^{2} + 4 s + 5}{s^{3} + 5 s^{2} + 11 s + 15}$"
      ],
      "text/plain": [
       "(s**2 + 4*s + 5)/(s**3 + 5*s**2 + 11*s + 15)"
      ]
     },
     "execution_count": 8,
     "metadata": {},
     "output_type": "execute_result"
    }
   ],
   "source": [
    "import sympy as sym\n",
    "from sympy.abc import s,t\n",
    "\n",
    "F = (s**2 + 4*s + 5)/(s**3 + 5*(s**2) + 11*s + 15)\n",
    "\n",
    "F"
   ]
  },
  {
   "cell_type": "code",
   "execution_count": 9,
   "id": "cf028db9-44d9-4a0e-a3a5-22c15750de5a",
   "metadata": {},
   "outputs": [
    {
     "data": {
      "text/latex": [
       "$\\displaystyle \\frac{\\left(\\left(\\sin{\\left(2 t \\right)} + 3 \\cos{\\left(2 t \\right)}\\right) e^{2 t} + 1\\right) e^{- 3 t} \\theta\\left(t\\right)}{4}$"
      ],
      "text/plain": [
       "((sin(2*t) + 3*cos(2*t))*exp(2*t) + 1)*exp(-3*t)*Heaviside(t)/4"
      ]
     },
     "execution_count": 9,
     "metadata": {},
     "output_type": "execute_result"
    }
   ],
   "source": [
    "f = sym.inverse_laplace_transform(F, s, t)\n",
    "\n",
    "f"
   ]
  },
  {
   "cell_type": "code",
   "execution_count": 7,
   "id": "56c2e91c-36fe-4a2d-a265-9f6dcacdf93c",
   "metadata": {},
   "outputs": [
    {
     "data": {
      "image/png": "[encoded data removed]",
      "text/plain": [
       "<Figure size 640x480 with 1 Axes>"
      ]
     },
     "metadata": {},
     "output_type": "display_data"
    }
   ],
   "source": [
    "x, y = ct.impulse_response(Y)\n",
    "\n",
    "plt.plot(x, y)\n",
    "plt.show()"
   ]
  }
 ],
 "metadata": {
  "kernelspec": {
   "display_name": "Python 3 (ipykernel)",
   "language": "python",
   "name": "python3"
  },
  "language_info": {
   "codemirror_mode": {
    "name": "ipython",
    "version": 3
   },
   "file_extension": ".py",
   "mimetype": "text/x-python",
   "name": "python",
   "nbconvert_exporter": "python",
   "pygments_lexer": "ipython3",
   "version": "3.10.12"
  }
 },
 "nbformat": 4,
 "nbformat_minor": 5
}
