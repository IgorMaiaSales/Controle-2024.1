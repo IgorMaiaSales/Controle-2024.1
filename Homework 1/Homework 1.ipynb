{
 "cells": [
  {
   "cell_type": "markdown",
   "id": "5a4447aa-162b-4e10-b053-9d71fbb2c1ce",
   "metadata": {},
   "source": [
    "# Homework 1 - Introdução aos Sistemas de Controle\n",
    "\n",
    "Aluno: Igor Torquato Maia Sales\n",
    "Matrícula: 485177\n",
    "\n",
    "Este documento foi feito utilizando o Jupyter Notebooks. O link para o github com todos os arquivos gerados durante a escrita desse documento está aqui.\n",
    "\n",
    "# Exercise 1\n",
    "\n",
    "Encontre a transformada inversa de Laplace por cálculos manuais e verifique seus resultados usando o “Symbolic toolbox” para as seguintes funções:\n",
    "\n",
    "$a. F_1 (s) = \\Large\\frac{3s^{2} + 5s}{s^{3} + 6s^{3} + 11s + 6}$\n",
    "\n",
    "$b. F_2 (s) = \\Large\\frac{s^{2} + 2s + 1}{(s + 2)^{3}}$\n",
    "\n",
    "$c. F_3 (s) = \\Large\\frac{2s + 3}{s^{3} + 6s^{2} + 21s + 26}$\n",
    "\n",
    "$d. F_4 (s) = \\Large\\frac{1 + 2e^{-s}}{s^{2} + 3s + 2}$"
   ]
  },
  {
   "cell_type": "markdown",
   "id": "6d5f0f35-1acc-40d8-8015-531b81c398c5",
   "metadata": {},
   "source": [
    "## Base Teórica\n",
    "\n",
    "Uma das formas de apresentação de um sistema LTI (Linear Time-Invariant) é o **Modelo de Entrada e Saída**, ou IO Model. Nesse modelo, o sistema é representado como uma (em um sistema SISO) ou mais (em um sistema MIMO) equações diferenciais. Vamos focar em um sistema SISO, então:\n",
    "\n",
    "$$\n",
    "h \\Big( y(t), \\ \\dot{y}(t), ..., \\ y^n (t), u(t), \\dot{u}(t), ..., \\ u^m (t) \\Big) = 0 \\\\\n",
    "$$\n",
    "\n",
    "Para resolver essa equação, precisamos da **Transformada de Laplace**, que transfere a função do domínio do tempo para o domínio da frequência, onde ela pode ser resolvida algebricamente. Nesse processo, é comum passas a representar o sistema como uma função de transferência, que correlaciona a entrada e a saída:\n",
    "\n",
    "$$\n",
    "F(s) = \\frac{N(s)}{D(s)}\n",
    "$$\n",
    "\n",
    "Onde o numerador $N(s)$ representa a saída do sistema e o denominador $D(s)$, também chamado de polinômio característico, representa a entrada do sistema. A partir daí, para resolver o sistema, precisamos fazer 3 passos:\n",
    "\n",
    "1. Fatorar o polinômio característico;\n",
    "2. Decompor a função de transferência em frações parciais;\n",
    "3. Aplicar a inversa de laplace em cada fração parcial.\n",
    "\n",
    "Esses são os três passos que serão demonstrados nos items abaixo."
   ]
  },
  {
   "cell_type": "markdown",
   "id": "786ce8fa-f9cd-4d96-b530-671548319521",
   "metadata": {},
   "source": [
    "## Item a)\n",
    "\n",
    "$a. F_1 (s) = \\Large\\frac{3s^{2} + 5s}{s^{3} + 6s^{3} + 11s + 6}$\n",
    "\n",
    "Para resolver o item a, primeiro precisamos fatorar o denominador da função de transferência, para nos possibilitar a decomposição em frações parciais. Por inspeção, percebesse que $s = -1$ é raíz do denominados $D_1 (s) = s^{3} + 6s^{3} + 11s + 6$, logo, podemos farotar $D(s)$ em  função do termo $(s + 1)$:\n",
    "\n",
    "$$ D_1 (s) = (s + 1)(s^{2} + 5s + 6) $$\n",
    "\n",
    "Após fazermos isso, podemos notar, por Girard, que:\n",
    "\n",
    "$$\n",
    "s_{2} + s_{3} = -5 \\\\\n",
    "s_{2}s_{3} = 6\n",
    "$$\n",
    "\n",
    "Onde $ \\ s_{2} \\ e \\ s_{3} \\ $ são as raízes do termo $(s^{2} + 5s + 6)$. Logo, percebemos que as raízes são $s_{2} = -2 \\ e \\ s_{2} = -3$. $D_1 (s)$ pode ser escrita como:\n",
    "\n",
    "$$ D(s) = (s + 1)(s + 2)(s + 3) $$\n",
    "\n",
    "Assim, podemos reescrever a função $F_1 (s)$ como:\n",
    "\n",
    "$$ F_1 (s) = \\frac{3s^{2} + 5s}{(s + 1)(s + 2)(s + 3)} $$\n",
    "\n",
    "Agora, podemos finalmente decompor a função de transferência $F_1 (s)$ como:\n",
    "\n",
    "$$ F_1 (s) = \\frac{3s^{2} + 5s}{(s + 1)(s + 2)(s + 3)} = \\frac{A}{(s + 1)} + \\frac{B}{(s + 2)} + \\frac{C}{(s + 3)}$$\n",
    "\n",
    "Para cada fração parcial de $F_1 (s)$, podemos achar o denominador simplesmente achando o valor de $(s - s_i)F_1 (s)\\vert_{s \\to s_i}$, onde $(s-s_i)$ é o denominador da fração parcial. No caso do item a, podemos fazer da seguinte forma:\n",
    "\n",
    "$$A = (s + 1)F_1 (s) \\vert_{s \\to -1} = \\frac{3(-1)^{2} + 5(-1)}{(-1 + 2)(-1 + 3)} = \\frac{3 - 5}{2} = -1$$\n",
    "\n",
    "$$B = (s + 2)F_1 (s) \\vert_{s \\to -2} = \\frac{3(-2)^{2} + 5(-2)}{(-2 + 1)(-2 + 3)} = \\frac{3 \\cdot 4 - 5 \\cdot 2}{-1} = -2$$\n",
    "\n",
    "$$C = (s + 3)F_1 (s) \\vert_{s \\to -3} = \\frac{3(-3)^{2} + 5(-3)}{(-3 + 1)(-3 + 2)} = \\frac{3 \\cdot 9 - 5 \\cdot 3}{2} = 6$$\n",
    "\n",
    "Dessa forma, podemos escrever nossa função de transfrência $F_1 (s)$ como:\n",
    "\n",
    "$$ F_1 (s) = \\frac{3s^{2} + 5s}{(s + 1)(s + 2)(s + 3)} =  \\frac{-1}{(s + 1)} + \\frac{-2}{(s + 2)} + \\frac{6}{(s + 3)} $$\n",
    "\n",
    "Em python, primeiro devemos declarar nossa função de transferência:"
   ]
  },
  {
   "cell_type": "code",
   "execution_count": 1,
   "id": "f328066c-35fb-4eeb-91b5-a46a391ce15a",
   "metadata": {},
   "outputs": [
    {
     "data": {
      "text/latex": [
       "$\\displaystyle \\frac{3 s^{2} + 5 s}{s^{3} + 6 s^{2} + 11 s + 6}$"
      ],
      "text/plain": [
       "(3*s**2 + 5*s)/(s**3 + 6*s**2 + 11*s + 6)"
      ]
     },
     "execution_count": 1,
     "metadata": {},
     "output_type": "execute_result"
    }
   ],
   "source": [
    "import sympy as sym\n",
    "from sympy.abc import s,t\n",
    "\n",
    "F1 = (3*(s**2) + 5*s)/(s**3 + 6*(s**2) + 11*s + 6)\n",
    "\n",
    "F1"
   ]
  },
  {
   "cell_type": "markdown",
   "id": "f738dcfc-2f8d-4463-bf03-3d7ae3757bf8",
   "metadata": {},
   "source": [
    "Podemos fazer a decomposição em frações parciais usando a função `apart()` da biblioteca `sympy`. Mesmo que isso não seja necessário para fazer a inversa da transformada de laplace, vamos fazer para checar se nossas contas manuais estão corretas."
   ]
  },
  {
   "cell_type": "code",
   "execution_count": 2,
   "id": "718b34ed-9040-423d-8b14-11ed23af233f",
   "metadata": {},
   "outputs": [
    {
     "data": {
      "text/latex": [
       "$\\displaystyle \\frac{6}{s + 3} - \\frac{2}{s + 2} - \\frac{1}{s + 1}$"
      ],
      "text/plain": [
       "6/(s + 3) - 2/(s + 2) - 1/(s + 1)"
      ]
     },
     "execution_count": 2,
     "metadata": {},
     "output_type": "execute_result"
    }
   ],
   "source": [
    "F1_pf = sym.apart(F1)\n",
    "\n",
    "F1_pf"
   ]
  },
  {
   "cell_type": "markdown",
   "id": "1d1e8655-5bf7-4cdd-ace6-007419774664",
   "metadata": {},
   "source": [
    "Com as frações parciais disponíveis, podemos aplicar a inversa de laplace $\\mathcal{L}^{-1}\\Big[\\frac{1}{s + a}\\Big] = e^{-at}$ em cada fração parcial. Veja:\n",
    "\n",
    " \n",
    "$$\\mathcal{L}^{-1}\\Big[\\frac{-1}{(s + 1)}\\Big] = -e^{-t}$$\n",
    "\n",
    "$$\\mathcal{L}^{-1}\\Big[\\frac{-2}{(s + 2)}\\Big] = -2e^{-2t}$$\n",
    "\n",
    "$$\\mathcal{L}^{-1}\\Big[\\frac{6}{(s + 3}\\Big] = 6e^{-3t}$$\n",
    "\n",
    "Assim, podemos escrever nossa função $f_1 (t)$ como o resultado da transformada inversa de laplace na função de transferência $F_1 (s)$:\n",
    "\n",
    "$$ f_{1}(t) = \\mathcal{L}^{-1}[F_{1}(s)] = -e^{-t}-2e^{-2t}+6e^{-3t} $$\n",
    "\n",
    "Em python, podemos fazer a transformada inversa de laplace com a função `inverse_laplace_transform()` da biblioteca `sympy`. Fica assim:"
   ]
  },
  {
   "cell_type": "code",
   "execution_count": 3,
   "id": "05079639-5e80-45ac-9a44-86ffc05fcc1b",
   "metadata": {},
   "outputs": [
    {
     "data": {
      "text/latex": [
       "$\\displaystyle \\left(- e^{2 t} - 2 e^{t} + 6\\right) e^{- 3 t} \\theta\\left(t\\right)$"
      ],
      "text/plain": [
       "(-exp(2*t) - 2*exp(t) + 6)*exp(-3*t)*Heaviside(t)"
      ]
     },
     "execution_count": 3,
     "metadata": {},
     "output_type": "execute_result"
    }
   ],
   "source": [
    "f1 = sym.inverse_laplace_transform(F1, s, t)\n",
    "\n",
    "f1"
   ]
  },
  {
   "cell_type": "markdown",
   "id": "df555a68-77c2-4946-ac35-1d2f230743f6",
   "metadata": {},
   "source": [
    "Perceba que o programa colocou $e^{-3t}$ em evidência em todos os termos. Porém, ao expandirmos o resultado, percebemos que ele está certo."
   ]
  },
  {
   "cell_type": "markdown",
   "id": "d1c32529-857f-48a4-9b4e-cd71e8acc92f",
   "metadata": {},
   "source": [
    "## Item B\n",
    "\n",
    "$b. F_2 (s) = \\Large\\frac{s^{2} + 2s + 1}{(s + 2)^{3}}$\n",
    "\n",
    "Perceba que o denominador $D_2 (s)$ da função $F_2 (s)$ já está fatorado, mas apresenta uma raíz com multiplicidade maior do que 1, ou seja, um dos fatores possui grau maior que 1. Nesse caso, a decomposição em frações parciais gera uma fração para cada natural menor ou igual ao grau do fator. No caso item B, temos uma raíz com multiplicidade 3, resultando na seguinte decomposição:\n",
    "\n",
    "$$\n",
    "F_2 (s) = \\frac{s^{2} + 2s + 1}{(s + 2)^{3}} = \\frac{A_0 }{(s + 2)^{3}} + \\frac{A_1 }{(s + 2)^{2}} + \\frac{A_2 }{s + 2}\n",
    "$$\n",
    "\n",
    "Nesse caso, sabendo que $i! \\cdot A_i = F^{(n)} (s)\\vert_{s \\to s_i}$, para todo $i \\ge 1$ e mantendo a estratégia do item anterior no caso de $A_0$:\n",
    "\n",
    "\n",
    "$$A_0  = (s+2)^{3}F_2(s) \\vert_{s \\to -2} = (-2)^{2} + 2 \\cdot (-2) + 1 = 1$$\n",
    "\n",
    "$$A_1  = F_2'(s) \\vert_{s \\to -2} = 2 \\cdot (-2) + 2 = -2$$\n",
    "\n",
    "$$A_2  = \\frac{F_2''(s) \\vert_{s \\to -2}}{2!} = \\dfrac{s(2s + 2)}{ds} \\Big\\vert_{s \\to -2} = \\frac{2}{2} = 1$$\n",
    "\n",
    "Finalmente, achamos a nossa função decomposta em frações parciais como:\n",
    "\n",
    "$$\n",
    "F_2 (s) = \\frac{1}{(s + 2)^{3}} + \\frac{-2}{(s + 2)^{2}} + \\frac{1}{s + 2}\n",
    "$$\n",
    "\n",
    "Em python:"
   ]
  },
  {
   "cell_type": "code",
   "execution_count": 4,
   "id": "f0455245-ba18-47ca-ac53-ab5a85b55263",
   "metadata": {},
   "outputs": [
    {
     "data": {
      "text/latex": [
       "$\\displaystyle \\frac{s^{2} + 2 s + 1}{\\left(s + 2\\right)^{3}}$"
      ],
      "text/plain": [
       "(s**2 + 2*s + 1)/(s + 2)**3"
      ]
     },
     "execution_count": 4,
     "metadata": {},
     "output_type": "execute_result"
    }
   ],
   "source": [
    "F2 = (s**2 + 2*s +1)/(s + 2)**3\n",
    "\n",
    "F2"
   ]
  },
  {
   "cell_type": "code",
   "execution_count": 5,
   "id": "08059196-d2db-438f-8872-6813a4cf5860",
   "metadata": {},
   "outputs": [
    {
     "data": {
      "text/latex": [
       "$\\displaystyle \\frac{1}{s + 2} - \\frac{2}{\\left(s + 2\\right)^{2}} + \\frac{1}{\\left(s + 2\\right)^{3}}$"
      ],
      "text/plain": [
       "1/(s + 2) - 2/(s + 2)**2 + (s + 2)**(-3)"
      ]
     },
     "execution_count": 5,
     "metadata": {},
     "output_type": "execute_result"
    }
   ],
   "source": [
    "F2_pf = sym.apart(F2)\n",
    "\n",
    "F2_pf"
   ]
  },
  {
   "cell_type": "markdown",
   "id": "56a22cc1-cd74-4a61-a584-6a3f031e1cef",
   "metadata": {},
   "source": [
    "Podemos aplicar agora a inversa de laplace $\\mathcal{L}^{-1}\\Big[\\frac{1}{(s + a)^{n}}\\Big] = \\frac{1}{(n-1)!}t^{n-1}e^{-at}$ para calcular cada termo da nossa função $f_2 (t)$:\n",
    "\n",
    "$$\n",
    "f_2 (t) = e^{-2t} - 2te^{-2t} + \\frac{1}{2}t²e^{-2t}\n",
    "$$\n",
    "\n",
    "Em python:"
   ]
  },
  {
   "cell_type": "code",
   "execution_count": 6,
   "id": "9e8a5ee5-b1d6-40a1-a152-4a5ce7dbc38b",
   "metadata": {},
   "outputs": [
    {
     "data": {
      "text/latex": [
       "$\\displaystyle \\frac{\\left(t^{2} - 4 t + 2\\right) e^{- 2 t} \\theta\\left(t\\right)}{2}$"
      ],
      "text/plain": [
       "(t**2 - 4*t + 2)*exp(-2*t)*Heaviside(t)/2"
      ]
     },
     "execution_count": 6,
     "metadata": {},
     "output_type": "execute_result"
    }
   ],
   "source": [
    "f2 = sym.inverse_laplace_transform(F2, s, t)\n",
    "\n",
    "f2"
   ]
  },
  {
   "cell_type": "markdown",
   "id": "8606d2c1-234f-4d6f-a0a9-a87ad02f23ea",
   "metadata": {},
   "source": [
    "Novamente, perceba que o programa coloca $\\large\\frac{e^{-2t}}{2}$ em evidência, mas achamos a resposta correta."
   ]
  },
  {
   "cell_type": "markdown",
   "id": "1d28fadd-b3ab-4b42-a8ec-5c8426abef06",
   "metadata": {},
   "source": [
    "## Item C\n",
    "\n",
    "$c. F_3 (s) = \\Large\\frac{2s + 3}{s^{3} + 6s^{2} + 21s + 26}$\n",
    "\n",
    "Na função $F_3(s)$, percebemos por inspeção que $D_3(s)$ possui $-2$ como raíz, logo:\n",
    "\n",
    "$$c. F_3 (s) = \\frac{2s + 3}{(s + 2)(s² + 4s + 13)}$$"
   ]
  },
  {
   "cell_type": "markdown",
   "id": "4e5f89b6-f02d-4c81-b2a2-39059664ead2",
   "metadata": {},
   "source": [
    "Por baskara, percebemos que as raízes de $(s² + 4s + 13)$ são os complexos conjugados $-2+3i \\ e \\ -2-3i$. Logo, nossa decomposição em frações parciais fica da seguinte forma:\n",
    "\n",
    "$$F_3 (s) = \\frac{2s + 3}{(s+2)(s+2+3i)(s+2-3i)} = \\frac{A}{(s+2)} + \\frac{B}{(s+2+3i)} + \\frac{C}{(s+2-3i)}$$"
   ]
  },
  {
   "cell_type": "markdown",
   "id": "ba136e1a-86dc-4ce9-903f-45cd18fa68a6",
   "metadata": {},
   "source": [
    "Podemos achar $A, \\ B \\ e \\ C$ da seguinte forma:\n",
    "\n",
    "$$A = (s + 2)F_1 (s) \\vert_{s \\to -2} = \\frac{2 \\cdot (-2) + 3}{(-2)² + 4(-2) + 13} = \\frac{-1}{4-8+13} = \\frac{-1}{9}$$\n",
    "\n",
    "$$B = (s + 2 + 3i)F_1 (s) \\vert_{s \\to -2-3i} = \\frac{2(-2-3i)+3}{(-2-3i+2)(-2-3i+2+3i)} = \\frac{1+6i}{18}$$\n",
    "\n",
    "$$C = (s + 2 - 3i)F_1 (s) \\vert_{s \\to -2+3i} = \\frac{2(-2+3i)+3}{(-2+3i+2)(-2+3i+2+3i)} = \\frac{1-6i}{18}$$\n",
    "\n",
    "Logo, nossa finção de transferência decomposta em frações parciais fica:\n",
    "\n",
    "$$\n",
    "F_3 (s) = \\frac{-1}{9(s+2)} + \\frac{1+6i}{18(s+2+3i)} + \\frac{1-6i}{18(s+2-3i)}\n",
    "$$\n",
    "\n",
    "Em python:"
   ]
  },
  {
   "cell_type": "code",
   "execution_count": 7,
   "id": "6264b884-bb22-401a-8f94-05fe8584e240",
   "metadata": {},
   "outputs": [
    {
     "data": {
      "text/latex": [
       "$\\displaystyle \\frac{2 s + 3}{s^{3} + 6 s^{2} + 21 s + 26}$"
      ],
      "text/plain": [
       "(2*s + 3)/(s**3 + 6*s**2 + 21*s + 26)"
      ]
     },
     "execution_count": 7,
     "metadata": {},
     "output_type": "execute_result"
    }
   ],
   "source": [
    "F3 = (2*s + 3)/(s**3 + 6*(s**2) + 21*s + 26)\n",
    "\n",
    "F3"
   ]
  },
  {
   "cell_type": "code",
   "execution_count": 8,
   "id": "c36206c2-b610-4c28-8f07-e42af8296a0d",
   "metadata": {},
   "outputs": [
    {
     "data": {
      "text/latex": [
       "$\\displaystyle \\frac{s + 20}{9 \\left(s^{2} + 4 s + 13\\right)} - \\frac{1}{9 \\left(s + 2\\right)}$"
      ],
      "text/plain": [
       "(s + 20)/(9*(s**2 + 4*s + 13)) - 1/(9*(s + 2))"
      ]
     },
     "execution_count": 8,
     "metadata": {},
     "output_type": "execute_result"
    }
   ],
   "source": [
    "F3_pf = sym.apart(F3)\n",
    "\n",
    "F3_pf"
   ]
  },
  {
   "cell_type": "markdown",
   "id": "2875bc9d-d817-45d3-96a1-15cdb154854b",
   "metadata": {},
   "source": [
    "Perceba que o programa não decompôs $F_3(s)$ em frações parciais com denominador complexo e colocou um termo com denominador quadrático representando a soma dessas frações.\n",
    "\n",
    "Faremos algo parecido, mas racionalizando cada fração com denominador complexo:\n",
    "\n",
    "$$D = \\frac{B}{(s+2+3i)} + \\frac{C}{(s+2-3i)}$$\n",
    "\n",
    "$$\\therefore D = \\frac{1}{18}\\Big(\\frac{1+6i}{(s+2+3i)} + \\frac{1-6i}{(s+2-3i)}\\Big)$$\n",
    "\n",
    "$$\\therefore D = \\frac{1}{18}\\Big(\\frac{(s+2-3i)(1+61)+(s+2+3i)(1-61)}{(s+2)²+3²}\\Big)$$\n",
    "\n",
    "$$\\therefore D = \\frac{1}{9}\\Big(\\frac{(s+2)+2 \\cdot 3²}{(s+2)²+3²}\\Big)$$\n",
    "\n",
    "$$\\therefore D = \\frac{1}{9}\\Big(\\frac{(s+2)}{(s+2)²+3²}\\Big) + \\frac{2}{3}\\Big(\\frac{3}{(s+2)²+3²}\\Big)$$\n",
    "\n",
    "Logo:\n",
    "\n",
    "$$\n",
    "F_3 (s) = \\frac{-1}{9(s+2)}  + \\frac{1}{9}\\Big(\\frac{(s+2)}{(s+2)²+3²}\\Big) + \\frac{2}{3}\\Big(\\frac{3}{(s+2)²+3²}\\Big)\n",
    "$$\n",
    "\n",
    "Podemos usar as inversas de Laplace $\\mathcal{L}^{-1}\\Big[\\frac{\\omega}{((s + a)^{2} + \\omega²}\\Big] = e^{-at}\\sin(\\omega t)$ e $\\mathcal{L}^{-1}\\Big[\\frac{s+a}{((s + a)^{2} + \\omega²}\\Big] = e^{-at}\\cos(\\omega t)$ para achar a função $f_3(t)$:\n",
    "\n",
    "$$\n",
    "f_3(t) = \\frac{-1}{9}e^{-2t} + \\frac{1}{9}e^{-2t}\\cos(3t) + \\frac{2}{3}e^{-2t}\\sin(3t)\n",
    "$$\n",
    "\n",
    "Em python:"
   ]
  },
  {
   "cell_type": "code",
   "execution_count": 9,
   "id": "c5c8a4d0-2a32-4461-90b0-3312e41e3192",
   "metadata": {},
   "outputs": [
    {
     "data": {
      "text/latex": [
       "$\\displaystyle \\frac{\\left(6 \\sin{\\left(3 t \\right)} + \\cos{\\left(3 t \\right)} - 1\\right) e^{- 2 t} \\theta\\left(t\\right)}{9}$"
      ],
      "text/plain": [
       "(6*sin(3*t) + cos(3*t) - 1)*exp(-2*t)*Heaviside(t)/9"
      ]
     },
     "execution_count": 9,
     "metadata": {},
     "output_type": "execute_result"
    }
   ],
   "source": [
    "f3 = sym.inverse_laplace_transform(F3, s, t)\n",
    "\n",
    "f3"
   ]
  },
  {
   "cell_type": "markdown",
   "id": "4cd5c5e7-7dcd-47ae-ab21-afa75468ee8a",
   "metadata": {},
   "source": [
    "Perceba que o programa colocou $\\large\\frac{e^{}-2t}{9}$ em evidência, mas temos a resposta correta."
   ]
  },
  {
   "cell_type": "markdown",
   "id": "498d1ad5-e084-4117-8c85-cae9a73361b1",
   "metadata": {},
   "source": [
    "## Item D\n",
    "\n",
    "$d. F_4 (s) = \\Large\\frac{1 + 2e^{-s}}{s^{2} + 3s + 2}$\n",
    "\n",
    "Por Girard, percebemos que as raízes do denominador $D_4(s)$ de $F_4(s)$ são $s_1 = -1 e s_2 = -2$. Logo:\n",
    "\n",
    "$$F_4 (s) = \\frac{1 + 2e^{-s}}{(s+1)(s+2)} = \\frac{1}{(s+1)(s+2)}+\\frac{2e^{-s}}{(s+1)(s+2)}$$\n",
    "\n",
    "Utilizando as mesmas estratégias para a primeira parcela, temos que:\n",
    "\n",
    "$$\n",
    "\\frac{1}{(s+1)(s+2)} = \\frac{A_1}{(s+1)} + \\frac{B_1}{(s+2)}\n",
    "$$\n",
    "\n",
    "Assim:\n",
    "\n",
    "$$A_1 = (s + 1)F_4 (s) \\vert_{s \\to -1} = \\frac{1}{(-1+2)} = 1$$\n",
    "\n",
    "$$B_1 = (s + 2)F_4 (s) \\vert_{s \\to -2} = \\frac{1}{(-2+1)} = -1$$\n",
    "\n",
    "Na segunda parcela, podemos colocar $2e⁻s$ em evidência e fazer a mesma decomposição, $F_4(s)$ fica assim:\n",
    "\n",
    "$$\n",
    "F_4(s) = \\frac{1}{(s+1)} + \\frac{-1}{(s+2)} + \\frac{2e^{-s}}{(s+1)} + \\frac{-2s^{-s}}{(s+2)}\n",
    "$$\n",
    "\n",
    "Em python, não conseguimos decompor uma função com numerador não polinomial usando `sym.apart()`, então vamos separar manualmente a função $F_4(s)$:"
   ]
  },
  {
   "cell_type": "code",
   "execution_count": 10,
   "id": "b76c61f3-318f-446b-b902-0f45147d1821",
   "metadata": {},
   "outputs": [
    {
     "data": {
      "text/latex": [
       "$\\displaystyle \\frac{1}{s^{2} + 3 s + 2} + \\frac{2 e^{- s}}{s^{2} + 3 s + 2}$"
      ],
      "text/plain": [
       "1/(s**2 + 3*s + 2) + 2*exp(-s)/(s**2 + 3*s + 2)"
      ]
     },
     "execution_count": 10,
     "metadata": {},
     "output_type": "execute_result"
    }
   ],
   "source": [
    "F4_1 = (1)/(s**2 + 3*s + 2)\n",
    "\n",
    "F4 = F4_1 + 2*sym.exp(-s)*F4_1\n",
    "\n",
    "F4"
   ]
  },
  {
   "cell_type": "code",
   "execution_count": 11,
   "id": "2dd48e82-50a9-4082-a704-6bd7c33cf10d",
   "metadata": {},
   "outputs": [
    {
     "data": {
      "text/latex": [
       "$\\displaystyle 2 \\left(- \\frac{1}{s + 2} + \\frac{1}{s + 1}\\right) e^{- s} - \\frac{1}{s + 2} + \\frac{1}{s + 1}$"
      ],
      "text/plain": [
       "2*(-1/(s + 2) + 1/(s + 1))*exp(-s) - 1/(s + 2) + 1/(s + 1)"
      ]
     },
     "execution_count": 11,
     "metadata": {},
     "output_type": "execute_result"
    }
   ],
   "source": [
    "F4_1pf = sym.apart(F4_1)\n",
    "\n",
    "F4_pf = F4_1pf + 2*sym.exp(-s)*F4_1pf\n",
    "\n",
    "F4_pf"
   ]
  },
  {
   "cell_type": "markdown",
   "id": "b0b52eb3-5bee-4825-8bf8-dab23f71d402",
   "metadata": {},
   "source": [
    "\n",
    "Sabendo que a inversa de $\\mathcal{L}^{-1}[e^{-\\alpha t}F(s)] = f(t-\\alpha)u(t-\\alpha)$, onde $u(t-\\alpha)$ é o degral unitário na translação do tempo, podemos achar a inversa $f_4(t)$ como:\n",
    "\n",
    "$$ f_4(t) = e^{-t} - e^{-2t} + (2e^{1-t} - 2e^{2-2t})u(t-1)$$\n",
    "\n",
    "Em pyhton:"
   ]
  },
  {
   "cell_type": "code",
   "execution_count": 12,
   "id": "4dfd6350-f00a-4898-8915-40130c33a577",
   "metadata": {},
   "outputs": [
    {
     "data": {
      "text/latex": [
       "$\\displaystyle \\left(- \\left(1 - e^{t}\\right) \\theta\\left(t\\right) + 2 \\left(1 - e^{1 - t}\\right) e^{t + 1} \\theta\\left(t - 1\\right)\\right) e^{- 2 t}$"
      ],
      "text/plain": [
       "(-(1 - exp(t))*Heaviside(t) + 2*(1 - exp(1 - t))*exp(t + 1)*Heaviside(t - 1))*exp(-2*t)"
      ]
     },
     "execution_count": 12,
     "metadata": {},
     "output_type": "execute_result"
    }
   ],
   "source": [
    "f4 = sym.inverse_laplace_transform(F4, s, t)\n",
    "\n",
    "f4"
   ]
  },
  {
   "cell_type": "markdown",
   "id": "387630b4-381b-4fce-b26e-5729f36eb283",
   "metadata": {},
   "source": [
    "Perceba que, como de costume, o programa colocou alguns termos em evidência, mas nos deu uma resposta correta."
   ]
  },
  {
   "cell_type": "markdown",
   "id": "f8ce9c37-91de-4161-b585-01f02f418ea1",
   "metadata": {},
   "source": [
    "# Exercise 2:\n",
    "\n",
    "Afim de estudar o efeito dos zeros na resposta de um sistema, considere a função de transferência dada na equação\n",
    "\n",
    "$G(s) = \\Large\\frac{\\alpha s + 1}{2s² + 3s + 1}$\n",
    "\n",
    "Faça o seguinte:\n",
    "\n",
    "1. Para $\\alpha = 1$, encontre e plote as respostas ao degrau unitário e ao impulso.\n",
    "2. Para $\\alpha = [−1, 0, 1, 2]$, plote e compare a resposta ao degrau unitário.\n",
    "3. Discuta como o sistema varia sua resposta para os diferentes valores de α."
   ]
  },
  {
   "cell_type": "markdown",
   "id": "be3c6b2f-fbcd-43d1-a4ba-2a9801c8928d",
   "metadata": {
    "jp-MarkdownHeadingCollapsed": true
   },
   "source": [
    "## Base Teórica\n",
    "\n",
    "Como expicado no item anterios, uma função de transferência pode ser escrita como:\n",
    "\n",
    "$$\n",
    "F(s) = \\frac{N(s)}{D(s)} = \\frac{b_ms^m + b_{m-1}s^{m-1} + ... + b_1s + b_0}{a_ns^n + a_{n-1}s^{n-1} + ... + a_1s + a_0}\n",
    "$$\n",
    "\n",
    "Ao fatorarmos $N(s) \\ e \\ D(s)$, podemos representar a função como:\n",
    "\n",
    "$$\n",
    "F(s) = K\\frac{(s-z_1)(s-z_2)...(s-z_{m-1})(s-z_m)}{(s-p_1)(s-p_2)...(s-p_{n-1})(s-p_n)}\n",
    "$$\n",
    "\n",
    "Onde:\n",
    "\n",
    "- $\\{z_i \\mid 1 \\leq i \\leq m\\}$ são as raízes ne $N(S) = 0$ e são definidas como os **zeros** do sistema\n",
    "- $\\{p_i \\mid 1 \\leq i \\leq n\\}$ são as raízes ne $D(S) = 0$ e são definidas como os **polos** do sistema\n",
    "- $K$ é a constante de ganho.\n",
    "\n",
    "No caso de $G(s)$, temos que o coeficiente líder do numerador $N(S) = \\alpha s + 1$ será $\\alpha$. Nesse caso:\n",
    "\n",
    "$$\n",
    "K = \\frac{b_m}{a_n} = \\frac{\\alpha}{2}\n",
    "$$\n",
    "\n",
    "Logo, $\\alpha$ influencia diretamente na constante de ganho da função de transferência."
   ]
  },
  {
   "cell_type": "markdown",
   "id": "fc41a7ec-921c-42cc-b274-2eb433e2ad36",
   "metadata": {},
   "source": [
    "## Parte 1\n",
    "\n",
    "1. Para $\\alpha = 1$, encontre e plote as respostas ao degrau unitário e ao impulso.\n",
    "\n",
    "### Resposta ao Impulso\n",
    "\n",
    "A partir de agora, vamos definir $Y(s) = N(s)$ como a saída e $U(s) = D(s)$ como a entrada.\n",
    "\n",
    "Nesse caso, sabendo que para o degrau unitário temos que $U(s) = 1$, podemos definir nossa saída como:\n",
    "\n",
    "$$G(s) = \\frac{Y(s)}{U(s)}$$\n",
    "\n",
    "$$\\therefore Y(s) = G(s)U(s)$$\n",
    "\n",
    "$$\\therefore Y(s) = G(s) = \\frac{s + 1}{2s² + 3s + 1}$$\n",
    "\n",
    "Logo, como sabemos que $K = \\frac{1}{2}$, fpodemos fatorar nosso denominador como: \n",
    "\n",
    "$$\n",
    "Y(s) = \\frac{\\frac{1}{2}(s + 1)}{(s+1)(s+\\frac{1}{2})} = \\frac{\\frac{1}{2}}{s+\\frac{1}{2}}\n",
    "$$\n",
    "\n",
    "Logo, aplicando a inversa de laplace:\n",
    "\n",
    "$$\n",
    "y(t) = \\frac{1}{2}e^{-\\frac{1}{2}t}\n",
    "$$\n",
    "\n",
    "Em python, vamos utilizar a biblioteca `control` para encontrar e plotar a resposta do sistema. Vamos usar a função `tf()` para gerar um modelo da nossa função de transferência e usar a função `impulse_response()` para gerar a resposta da função de transferência ao impulso. Também vamos usar a biblioteca `malplotlib`para printar os gráficos gerados pelo código: "
   ]
  },
  {
   "cell_type": "code",
   "execution_count": 13,
   "id": "8be400a1-6939-403c-986c-3db7157a435d",
   "metadata": {},
   "outputs": [
    {
     "data": {
      "text/latex": [
       "$$\\frac{s + 1}{2 s^2 + 3 s + 1}$$"
      ],
      "text/plain": [
       "TransferFunction(array([1, 1]), array([2, 3, 1]))"
      ]
     },
     "execution_count": 13,
     "metadata": {},
     "output_type": "execute_result"
    }
   ],
   "source": [
    "import numpy as np\n",
    "import control as ct\n",
    "import matplotlib.pyplot as plt\n",
    "\n",
    "num = [1, 1]\n",
    "den = [2, 3, 1]\n",
    "\n",
    "W = ct.tf(num, den)\n",
    "\n",
    "W"
   ]
  },
  {
   "cell_type": "code",
   "execution_count": 14,
   "id": "77e4b8c3-00bc-47e8-9737-331e6eb8efd8",
   "metadata": {},
   "outputs": [
    {
     "data": {
      "image/png": "[encoded data removed]",
      "text/plain": [
       "<Figure size 640x480 with 1 Axes>"
      ]
     },
     "metadata": {},
     "output_type": "display_data"
    }
   ],
   "source": [
    "xi, yi = ct.impulse_response(W)\n",
    "\n",
    "plt.plot(xi, yi)\n",
    "plt.show()"
   ]
  },
  {
   "cell_type": "markdown",
   "id": "3869bb40-b970-455f-a0ed-aa6758dd067b",
   "metadata": {},
   "source": [
    "### Resposta ao Degrau Unitário\n",
    "\n",
    "No caso do degrau unitário, temos que $U(s) = \\frac{1}{s}$, logo:\n",
    "\n",
    "$$\n",
    "Y(s) = \\frac{\\frac{1}{2}}{s(s+\\frac{1}{2})} = \\frac{A}{s} + \\frac{B}{s + \\frac{1}{2}}\n",
    "$$\n",
    "\n",
    "Usando o mesmo método do **Exercise 1**:\n",
    "\n",
    "$$A = (s)Y(s) \\vert_{s \\to 0} = \\frac{\\frac{1}{2}}{0 + \\frac{1}{2}} = 1$$\n",
    "\n",
    "$$B = (s + \\frac{1}{2})Y(s) \\vert_{s \\to -\\frac{1}{2}} = \\frac{\\frac{1}{2}}{-\\frac{1}{2}} = -1$$\n",
    "\n",
    "Logo:\n",
    "\n",
    "$$\n",
    "Y(s) = \\frac{1}{s} + \\frac{-1}{s + \\frac{1}{2}}\n",
    "$$\n",
    "\n",
    "Logo, aplicando a inversa de Laplace:\n",
    "\n",
    "$$\n",
    "y(t) = 1(t) - e^{-\\frac{1}{2}t}\n",
    "$$\n",
    "\n",
    "Onde 1(t) é a função degrau unitário. Em python:"
   ]
  },
  {
   "cell_type": "code",
   "execution_count": 15,
   "id": "6aab8249-359b-4d79-b1a1-5cf6c9aeb93b",
   "metadata": {},
   "outputs": [
    {
     "data": {
      "image/png": "[encoded data removed]",
      "text/plain": [
       "<Figure size 640x480 with 1 Axes>"
      ]
     },
     "metadata": {},
     "output_type": "display_data"
    }
   ],
   "source": [
    "xs, ys = ct.step_response(W)\n",
    "\n",
    "plt.plot(xs, ys)\n",
    "plt.show()"
   ]
  },
  {
   "cell_type": "markdown",
   "id": "62bb3685-4154-4a8c-88e6-c11f604ab076",
   "metadata": {},
   "source": [
    "## Parte 2\n",
    "\n",
    "Para a segunda parte, vamos montar nossos 4 modelos, um para cada valor de $\\alpha$:"
   ]
  },
  {
   "cell_type": "code",
   "execution_count": 16,
   "id": "df35392a-d2e0-4c96-9ecd-b31053ce656b",
   "metadata": {},
   "outputs": [
    {
     "data": {
      "text/latex": [
       "$$\\frac{-s + 1}{2 s^2 + 3 s + 1}$$"
      ],
      "text/plain": [
       "TransferFunction(array([-1,  1]), array([2, 3, 1]))"
      ]
     },
     "execution_count": 16,
     "metadata": {},
     "output_type": "execute_result"
    }
   ],
   "source": [
    "num1 = [-1, 1]\n",
    "num2 = [0, 1]\n",
    "num3 = [1, 1]\n",
    "num4 = [2, 1]\n",
    "\n",
    "W1 = ct.tf(num1, den)\n",
    "W2 = ct.tf(num2, den)\n",
    "W3 = ct.tf(num3, den)\n",
    "W4 = ct.tf(num4, den)\n",
    "\n",
    "W1"
   ]
  },
  {
   "cell_type": "code",
   "execution_count": 17,
   "id": "59bc92aa-801c-4dd3-b292-719f5b2f6f63",
   "metadata": {},
   "outputs": [
    {
     "data": {
      "text/latex": [
       "$$\\frac{1}{2 s^2 + 3 s + 1}$$"
      ],
      "text/plain": [
       "TransferFunction(array([1]), array([2, 3, 1]))"
      ]
     },
     "execution_count": 17,
     "metadata": {},
     "output_type": "execute_result"
    }
   ],
   "source": [
    "W2"
   ]
  },
  {
   "cell_type": "code",
   "execution_count": 18,
   "id": "356013cb-9665-4e73-aa25-e00b3a3a11f3",
   "metadata": {},
   "outputs": [
    {
     "data": {
      "text/latex": [
       "$$\\frac{s + 1}{2 s^2 + 3 s + 1}$$"
      ],
      "text/plain": [
       "TransferFunction(array([1, 1]), array([2, 3, 1]))"
      ]
     },
     "execution_count": 18,
     "metadata": {},
     "output_type": "execute_result"
    }
   ],
   "source": [
    "W3"
   ]
  },
  {
   "cell_type": "code",
   "execution_count": 19,
   "id": "da4751f5-53b5-42e0-b1c8-b3a94b1b1a72",
   "metadata": {},
   "outputs": [
    {
     "data": {
      "text/latex": [
       "$$\\frac{2 s + 1}{2 s^2 + 3 s + 1}$$"
      ],
      "text/plain": [
       "TransferFunction(array([2, 1]), array([2, 3, 1]))"
      ]
     },
     "execution_count": 19,
     "metadata": {},
     "output_type": "execute_result"
    }
   ],
   "source": [
    "W4"
   ]
  },
  {
   "cell_type": "markdown",
   "id": "1185de4b-cd29-4f0a-8c26-3ceaecfc84ea",
   "metadata": {},
   "source": [
    "Agora, podemos achar a resposta ao degrau unitário de cada uma delas e printar em um mesmo gráfico:"
   ]
  },
  {
   "cell_type": "code",
   "execution_count": 20,
   "id": "9db1d4d8-be79-49c4-913a-7ae40692b766",
   "metadata": {},
   "outputs": [
    {
     "data": {
      "image/png": "[encoded data removed]",
      "text/plain": [
       "<Figure size 640x480 with 1 Axes>"
      ]
     },
     "metadata": {},
     "output_type": "display_data"
    }
   ],
   "source": [
    "x1, y1 = ct.step_response(W1)\n",
    "x2, y2 = ct.step_response(W2)\n",
    "x3, y3 = ct.step_response(W3)\n",
    "x4, y4 = ct.step_response(W4)\n",
    "\n",
    "plt.plot(x1, y1, color='r', label='alpha = -1')\n",
    "plt.plot(x2, y2, color='g', label='alpha = 0')\n",
    "plt.plot(x3, y3, color='y', label='alpha = 1')\n",
    "plt.plot(x4, y4, color='b', label='alpha = 2')\n",
    "\n",
    "plt.legend()\n",
    "plt.show()"
   ]
  },
  {
   "cell_type": "markdown",
   "id": "6e93db78-4a20-4784-938a-3c972345b772",
   "metadata": {},
   "source": [
    "## Parte 3\n",
    "\n",
    "3. Discuta como o sistema varia sua resposta para os diferentes valores de α.\n",
    "\n",
    "Como discutido na base teórica desse exercício, a constante $\\alpha$ está diretamente ligada à constante de ganho de uma função de transferência. Logo, quanto maior o $\\alpha$, maior a constante de ganho $K$ e, analisando o gráfico anterior, para o caso particular da rsposta ao degrau unitário, quanto maior a constante de ganho, mais rápido o sistema converge para 1."
   ]
  },
  {
   "cell_type": "markdown",
   "id": "8094fbdf-72e2-4c99-8081-7a524353b0e7",
   "metadata": {},
   "source": [
    "## Exercise 3\n",
    "\n",
    "Considere o modelo de entrada-saída na equação\n",
    "\n",
    "$$ \\frac{d²y(t)}{dt²} + 2\\frac{dy(t)}{dt} + y(t) = 4\\frac{d²u(t)}{du²} + 15\\frac{du(t)}{du} + 19u(t)$$\n",
    "\n",
    "1. Defina o polinômio característico e represente graficamente os modos do sistema\n",
    "2. Dadas as condições iniciais na equação, encontre a evolução livre do sistema na equação\n",
    "\n",
    "$$ y(t)\\vert_{s \\to 0} = 1, \\ \\frac{dy(t)}{dt}\\Big\\vert_{s \\to 0} = 1 $$\n",
    "\n",
    "3. Encontre a resposta forçada do sistema sujeito a uma entrada em degrau unitário\n",
    "4. Por meio da linguagem de programação de sua escolha, plote a resposta y(t) e comente seus resultados\n"
   ]
  },
  {
   "cell_type": "markdown",
   "id": "df2da3a6-b43c-45b8-aaf3-daa5cb6d379b",
   "metadata": {},
   "source": [
    "## Parte 1\n",
    "\n",
    "1. Defina o polinômio característico e represente graficamente os modos do sistema\n",
    "\n",
    "Considerando todas as condições iniciais iguais a zero, a transformada de laplace da equação pode ser dada por\n",
    "\n",
    "$$\n",
    "(s² + 2s + 1)Y(s) = (4s² + 15s + 19)U(s) \\\\\n",
    "\\therefore F(s) = \\frac{Y(s)}{U(s)} = \\frac{4s² + 15s + 19}{s² + 2s + 1}\n",
    "$$\n",
    "\n",
    "Logo, o polinômio característico pode ser dado pelo denominador $D(s)$ da função de transferência $F(s)$. Por produtos notáveis, $D(s)$ pode ser escrito como:\n",
    "\n",
    "$$\n",
    "D(s) = s² + 2s + 1 = (s+1)²\n",
    "$$\n",
    "\n",
    "Os modos do sistema são definidos como as raízes do polinômio característico, também conhecidos como os **polos** do sistema. Logo, o sistema possui dois modos reais negativos iguais a -1. Podemos plotar essas raízes no plano de Argard-Gauss, também conhecido como plano dos complexos. Em python, podemos fazer da seguinte forma:"
   ]
  },
  {
   "cell_type": "code",
   "execution_count": 21,
   "id": "fecafd4c-6414-4725-b1d4-f53b7ad39f62",
   "metadata": {},
   "outputs": [
    {
     "data": {
      "image/png": "[encoded data removed]",
      "text/plain": [
       "<Figure size 640x480 with 1 Axes>"
      ]
     },
     "metadata": {},
     "output_type": "display_data"
    }
   ],
   "source": [
    "import matplotlib.pyplot as plt\n",
    "import numpy as np\n",
    "\n",
    "data = np.array([-1, -1])\n",
    "\n",
    "x = data.real\n",
    "y = data.imag\n",
    "\n",
    "plt.plot(x, y, 'b*')\n",
    "plt.ylabel('Imaginary')\n",
    "plt.xlabel('Real')\n",
    "plt.grid()\n",
    "plt.show()"
   ]
  },
  {
   "cell_type": "markdown",
   "id": "26cbac92-230d-4384-afe9-794453109228",
   "metadata": {},
   "source": [
    "## Parte 2\n",
    "\n",
    "2. Dadas as condições iniciais na equação, encontre a evolução livre do sistema na equação\n",
    "\n",
    "Nesse caso, devemos levar em consideração a seguinte transformada de Laplace:\n",
    "\n",
    "$$\n",
    "\\mathcal{L}\\Big[ \\frac{d^nf(t)}{dt^n} \\Big] = s^nF(s) - \\sum\\limits_{k = 1}^{n}s^{n-k}f^{k-s}(0)\n",
    "$$\n",
    "\n",
    "Logo, aplicando a transformada de Laplace:\n",
    "\n",
    "$$s²Y(s) - sy(0) - \\dot{y}(0) + 2sY(s) -2y(0) + Y(s) = (4s² + 15s + 19)U(s)$$\n",
    "\n",
    "$$\\therefore (s² + 2s + 1)Y(s) - s - 3 = (4s² + 15s + 19)U(s)$$\n",
    "\n",
    "$$\\therefore (s² + 2s + 1)Y(s) = (4s² + 15s + 19)U(s) + s + 3$$\n",
    "\n",
    "$$\\therefore Y(s) = \\underbrace{\\frac{4s² + 15s + 19}{s² + 2s + 1}U(s)}_{Forced \\ Response} + \\underbrace{\\frac{s + 3}{s² + 2s + 1}}_{Free \\ Response}$$\n",
    "\n",
    "Nesse caso, tudo que independe da entrada $U(s)$ é considerado como a resposta livre e tudo que depende de $U(s)$ é considerado como resposta forçada. Como queremos a evolução livre, primeiro precisamos decompor em frações parciais:\n",
    "\n",
    "$$\n",
    "Y_{Free}(s) = \\frac{s+3}{s² + 2s + 1} = \\frac{s+3}{(s+1)²} = \\frac{A_0}{(s+1)²} + \\frac{A_1}{s+1}\n",
    "$$\n",
    "\n",
    "Vamos achar A_0 e A_1 como já descrito no **Exercise 1**:\n",
    "\n",
    "$$A_0 = (s+1)²Y_{Free}(s) \\vert_{s \\to -1} = (-1 + 3) = 2$$\n",
    "\n",
    "$$A_1 = \\frac{d(s+1)²Y_{Free}(s)}{ds} \\Big\\vert_{s \\to -1} = \\frac{d(s+3)}{ds} \\Big\\vert_{s \\to -1} = 1$$\n",
    "\n",
    "Logo:\n",
    "\n",
    "$$\n",
    "Y_{Free}(s) = \\frac{2}{(s+1)²} + \\frac{1}{s+1}\n",
    "$$\n",
    "\n",
    "Assim, aplicando a inversa de Laplace:\n",
    "\n",
    "$$\n",
    "y_{Free}(t) = e^{-t} + 2te^{-t}\n",
    "$$\n",
    "\n",
    "Em python, poderiamos usar a função `nlsys()` da biblioteca `control`para criar um modelo de entrada e saída não linear (que é nosso caso). Porém, ao invés disso, vamos aproveitar que já temos nossa função de transferência separada em parte Livre e Parte Forçada para resolver como já temos resolvido no decorrer desse trabalho:"
   ]
  },
  {
   "cell_type": "code",
   "execution_count": 22,
   "id": "af700c95-e2ab-4c9f-8a51-415dc87214e2",
   "metadata": {},
   "outputs": [
    {
     "data": {
      "text/latex": [
       "$\\displaystyle \\frac{s + 3}{s^{2} + 2 s + 1}$"
      ],
      "text/plain": [
       "(s + 3)/(s**2 + 2*s + 1)"
      ]
     },
     "execution_count": 22,
     "metadata": {},
     "output_type": "execute_result"
    }
   ],
   "source": [
    "import sympy as sym\n",
    "from sympy.abc import s,t\n",
    "\n",
    "Yfree = (s + 3)/(s**2 + 2*s + 1)\n",
    "\n",
    "Yfree"
   ]
  },
  {
   "cell_type": "code",
   "execution_count": 23,
   "id": "4bf87438-7e66-43c9-bc7f-388d24dd4df6",
   "metadata": {},
   "outputs": [
    {
     "data": {
      "text/latex": [
       "$\\displaystyle \\frac{1}{s + 1} + \\frac{2}{\\left(s + 1\\right)^{2}}$"
      ],
      "text/plain": [
       "1/(s + 1) + 2/(s + 1)**2"
      ]
     },
     "execution_count": 23,
     "metadata": {},
     "output_type": "execute_result"
    }
   ],
   "source": [
    "Yfree_pf = sym.apart(Yfree)\n",
    "\n",
    "Yfree_pf"
   ]
  },
  {
   "cell_type": "code",
   "execution_count": 24,
   "id": "411d5811-d6ed-4e6a-a402-44063a2f9a24",
   "metadata": {},
   "outputs": [
    {
     "data": {
      "text/latex": [
       "$\\displaystyle \\left(2 t + 1\\right) e^{- t} \\theta\\left(t\\right)$"
      ],
      "text/plain": [
       "(2*t + 1)*exp(-t)*Heaviside(t)"
      ]
     },
     "execution_count": 24,
     "metadata": {},
     "output_type": "execute_result"
    }
   ],
   "source": [
    "yfree = sym.inverse_laplace_transform(Yfree, s, t)\n",
    "\n",
    "yfree"
   ]
  },
  {
   "cell_type": "markdown",
   "id": "12ff8da7-f898-4d7a-b519-92a6d40e4b86",
   "metadata": {},
   "source": [
    "Agora, utilizando a biblioteca `control`, podemos achar a resposta livre do sistema como uma resposta ao impulso, já que, nesse caso, $U(s) = 1$. Observe:"
   ]
  },
  {
   "cell_type": "code",
   "execution_count": 25,
   "id": "6be45d47-9e0d-40af-bf17-a4f75e3616ec",
   "metadata": {},
   "outputs": [
    {
     "data": {
      "text/latex": [
       "$$\\frac{s + 3}{s^2 + 2 s + 1}$$"
      ],
      "text/plain": [
       "TransferFunction(array([1, 3]), array([1, 2, 1]))"
      ]
     },
     "execution_count": 25,
     "metadata": {},
     "output_type": "execute_result"
    }
   ],
   "source": [
    "import control as ct\n",
    "\n",
    "num_free = [1, 3]\n",
    "den = [1, 2, 1]\n",
    "\n",
    "Y_free = ct.tf(num_free, den)\n",
    "\n",
    "Y_free"
   ]
  },
  {
   "cell_type": "code",
   "execution_count": 26,
   "id": "038be23b-f27f-4345-9b0c-751774d07532",
   "metadata": {},
   "outputs": [
    {
     "data": {
      "image/png": "[encoded data removed]",
      "text/plain": [
       "<Figure size 640x480 with 1 Axes>"
      ]
     },
     "metadata": {},
     "output_type": "display_data"
    }
   ],
   "source": [
    "x_free, y_free = ct.impulse_response(Y_free)\n",
    "\n",
    "plt.plot(x_free, y_free)\n",
    "plt.show()"
   ]
  },
  {
   "cell_type": "markdown",
   "id": "47078ed1-9cd8-4cd4-87cf-d5f9c645438e",
   "metadata": {},
   "source": [
    "## Parte 3\n",
    "\n",
    "3. Encontre a resposta forçada do sistema sujeito a uma entrada em degrau unitário\n",
    "\n",
    "Como encontrado na **Parte 2**, a resposta forçada pode ser escrita como:\n",
    "\n",
    "$$\n",
    "Y_{Forced}(s) = \\frac{4s² + 15s + 19}{s² + 2s + 1}U(s)\n",
    "$$\n",
    "\n",
    "Como sabemos que $U(s) = \\frac{1}{s}$ no caso do degral unitário, podemos decompor a resposta forçada da seguinte forma:\n",
    "\n",
    "$$\n",
    "Y_{Forced}(s) = \\frac{4s² + 15s + 19}{s(s+1)²} = \\frac{B_0}{(s+1)²} + \\frac{B_1}{s+1} + \\frac{C}{s}\n",
    "$$\n",
    "\n",
    "Logo:\n",
    "\n",
    "$$B_0 = (s+1)²Y_{Forced}(s) \\vert_{s \\to -1} = \\frac{4(-1)² + 15(-1) + 19}{-1} = -8$$\n",
    "\n",
    "$$B_1 = \\frac{d(s+1)²Y_{Forced}(s)}{ds} \\Big\\vert_{s \\to -1} = \\frac{d}{ds} \\frac{4s² + 15s + 19}{s} \\Big\\vert_{s \\to -1} = \\frac{(8s + 15)s - (4s² + 15s + 19}{s²} \\Big\\vert_{s \\to -1} = -15$$\n",
    "\n",
    "$$C = (s)²Y_{Forced}(s) \\vert_{s \\to 0} = 19$$\n",
    "\n",
    "Logo:\n",
    "\n",
    "$$\n",
    "Y_{Forced}(s) = \\frac{-8}{(s+1)²} + \\frac{-15}{s+1} + \\frac{19}{s}\n",
    "$$\n",
    "\n",
    "Assim, aplicando a inversa de laplace:\n",
    "\n",
    "$$\n",
    "y_{Forced}(t) = 19 - 15e^{-t} -8te^{-t}\n",
    "$$\n",
    "\n",
    "Em python:"
   ]
  },
  {
   "cell_type": "code",
   "execution_count": 27,
   "id": "df444039-a89e-429a-8ee9-80c8cfa7af0e",
   "metadata": {},
   "outputs": [
    {
     "data": {
      "text/latex": [
       "$\\displaystyle \\frac{4 s^{2} + 15 s + 19}{s \\left(s^{2} + 2 s + 1\\right)}$"
      ],
      "text/plain": [
       "(4*s**2 + 15*s + 19)/(s*(s**2 + 2*s + 1))"
      ]
     },
     "execution_count": 27,
     "metadata": {},
     "output_type": "execute_result"
    }
   ],
   "source": [
    "Yforced = (4*(s**2) + 15*s + 19)/(s*(s**2 + 2*s + 1))\n",
    "\n",
    "Yforced"
   ]
  },
  {
   "cell_type": "code",
   "execution_count": 28,
   "id": "3172b7bb-6c25-43a0-9f6e-d376dd2f0b31",
   "metadata": {},
   "outputs": [
    {
     "data": {
      "text/latex": [
       "$\\displaystyle - \\frac{15}{s + 1} - \\frac{8}{\\left(s + 1\\right)^{2}} + \\frac{19}{s}$"
      ],
      "text/plain": [
       "-15/(s + 1) - 8/(s + 1)**2 + 19/s"
      ]
     },
     "execution_count": 28,
     "metadata": {},
     "output_type": "execute_result"
    }
   ],
   "source": [
    "Yforced_pf = sym.apart(Yforced)\n",
    "\n",
    "Yforced_pf"
   ]
  },
  {
   "cell_type": "code",
   "execution_count": 29,
   "id": "5894c4fa-a978-4c73-b6f5-3fb91c844cfd",
   "metadata": {},
   "outputs": [
    {
     "data": {
      "text/latex": [
       "$\\displaystyle \\left(- 8 t + 19 e^{t} - 15\\right) e^{- t} \\theta\\left(t\\right)$"
      ],
      "text/plain": [
       "(-8*t + 19*exp(t) - 15)*exp(-t)*Heaviside(t)"
      ]
     },
     "execution_count": 29,
     "metadata": {},
     "output_type": "execute_result"
    }
   ],
   "source": [
    "yforced = sym.inverse_laplace_transform(Yforced, s, t)\n",
    "\n",
    "yforced"
   ]
  },
  {
   "cell_type": "markdown",
   "id": "ebb4fab4-7222-49ae-bd79-aa10ff596a72",
   "metadata": {},
   "source": [
    "Utilizando a biblioteca `control`, podemos achar a resposta do sistema ao degrau unitário e plotar. Observe:"
   ]
  },
  {
   "cell_type": "code",
   "execution_count": 30,
   "id": "f7a7a375-9a4e-4242-a6ff-7e36eb460095",
   "metadata": {},
   "outputs": [
    {
     "data": {
      "text/latex": [
       "$$\\frac{4 s^2 + 15 s + 19}{s^2 + 2 s + 1}$$"
      ],
      "text/plain": [
       "TransferFunction(array([ 4, 15, 19]), array([1, 2, 1]))"
      ]
     },
     "execution_count": 30,
     "metadata": {},
     "output_type": "execute_result"
    }
   ],
   "source": [
    "num_forced = [4, 15, 19]\n",
    "den = [1, 2, 1]\n",
    "\n",
    "Y_forced = ct.tf(num_forced, den)\n",
    "\n",
    "Y_forced"
   ]
  },
  {
   "cell_type": "code",
   "execution_count": 31,
   "id": "a8236d60-ff6b-4e51-8930-4edd83903ce6",
   "metadata": {},
   "outputs": [
    {
     "data": {
      "image/png": "[encoded data removed]",
      "text/plain": [
       "<Figure size 640x480 with 1 Axes>"
      ]
     },
     "metadata": {},
     "output_type": "display_data"
    }
   ],
   "source": [
    "x_forced, y_forced = ct.step_response(Y_forced)\n",
    "\n",
    "plt.plot(x_forced, y_forced)\n",
    "plt.show()"
   ]
  },
  {
   "cell_type": "markdown",
   "id": "412f8bf5-55c1-4e2e-9b8c-d2145a1adb44",
   "metadata": {},
   "source": [
    "## Parte 4\n",
    "\n",
    "4. Por meio da linguagem de programação de sua escolha, plote a resposta y(t) e comente seus resultados\n",
    "\n",
    "Finalmente, podemos somar as respostas de $y_{Free}(t) \\ e \\ y_{Forced}(t)$ para achar nossa resposta final. \n",
    "\n",
    "$$\n",
    "y(t) = y_{Free}(t) + y_{Forced}(t) = (e^{-t} + 2te^{-t}) + (19 - 15e^{-t} -8te^{-t})\n",
    "$$\n",
    "\n",
    "Em python:"
   ]
  },
  {
   "cell_type": "code",
   "execution_count": 32,
   "id": "382cd5b2-29cb-49fa-b762-449cd90c54e8",
   "metadata": {},
   "outputs": [
    {
     "data": {
      "image/png": "[encoded data removed]",
      "text/plain": [
       "<Figure size 640x480 with 1 Axes>"
      ]
     },
     "metadata": {},
     "output_type": "display_data"
    }
   ],
   "source": [
    "x = x_free\n",
    "y = y_free + y_forced\n",
    "\n",
    "plt.plot(x_free, y_free, color='r', label='Free')\n",
    "plt.plot(x_forced, y_forced, color='g', label='Forced')\n",
    "plt.plot(x, y, color='b', label='Complete')\n",
    "\n",
    "plt.legend()\n",
    "plt.show()"
   ]
  },
  {
   "cell_type": "markdown",
   "id": "ed1307bf-2b59-4cf9-83ef-447326102a60",
   "metadata": {},
   "source": [
    "Observe que a resposta completa é levemente maior que a resposta forçada no início. Mas como a resposta livre decai à zero com o tempo, a resposta forçada se aproxima cada vez mais da resposta completa, deixado a resposta livre desprezivel."
   ]
  },
  {
   "cell_type": "markdown",
   "id": "e3c4526f-f5df-440f-b914-7d7588c41bce",
   "metadata": {},
   "source": [
    "## Exercise 4\n",
    "\n",
    "Dado o modelo de espaço de estados em\n",
    "\n",
    "$$\n",
    "\\begin{cases}\n",
    "   \\begin{bmatrix} \\dot{x_1(t)} \\\\ \\dot{x_2(t)} \\end{bmatrix} = \\begin{bmatrix} 0 & 1 \\\\ -5 & -2 \\end{bmatrix}\\begin{bmatrix} x_1(t) \\\\ x_2(t) \\end{bmatrix} + \\begin{bmatrix} 0 \\\\ 2 \\end{bmatrix}u(t) \\\\\n",
    "   y(t) = \\begin{bmatrix} 0 & 1 \\end{bmatrix} \\begin{bmatrix} x_1(t) \\\\ x_2(t) \\end{bmatrix} + u(t)\n",
    "\\end{cases}\n",
    "$$\n",
    "\n",
    "1. Encontre a função de transferência correspondente $G(s) = Y(s)/U(s)$\n",
    "2. Encontre um modelo de entrada-saída equivalente ao modelo de espaço de estado\n",
    "3. Encontre a evolução forçada de estado e saída como resposta da entrada $u(t) = e^{-3t}$"
   ]
  },
  {
   "cell_type": "markdown",
   "id": "a41e357a-35be-4e79-9f7e-755888bbff4b",
   "metadata": {},
   "source": [
    "## Parte 1\n",
    "\n",
    "1. Encontre a função de transferência correspondente $G(s) = Y(s)/U(s)$\n",
    "\n",
    "A função de transferência pode ser dada por:\n",
    "\n",
    "$$\n",
    "G(s) = \\frac{Y(s)}{U(s)} = C(sI - A)^{-1}B + D\n",
    "$$\n",
    "\n",
    "Onde:\n",
    "\n",
    "$$A = \\begin{bmatrix} 0 & 1 \\\\ -5 & -2 \\end{bmatrix}; \\ B = \\begin{bmatrix} 0 \\\\ 2 \\end{bmatrix}; \\ C = \\begin{bmatrix} 0 & 1 \\end{bmatrix}; \\ D = 1$$\n",
    "\n",
    "$$sI - A)^{-1} = \\frac{adj(sI - A)}{det(sI - A)}$$\n",
    "\n",
    "Logo:\n",
    "\n",
    "$$sI - A = s\\begin{bmatrix} 1 & 10\\\\ 0 & 1 \\end{bmatrix} - \\begin{bmatrix} 0 & 1 \\\\ -5 & -2 \\end{bmatrix} = \\begin{bmatrix} s & -1 \\\\ 5 & 2 + s \\end{bmatrix}$$\n",
    "\n",
    "$$\\therefore adj(sI - A) = \\begin{bmatrix} s + 2 & -5 \\\\ 1 & s \\end{bmatrix} $$\n",
    "\n",
    "$$\\therefore det(sI - A) = s(2 + s) + 5 = s² + 2s + 5$$\n",
    "\n",
    "Então, podemo escrever $G(s)$ como:\n",
    "\n",
    "$$G(s) = \\frac{\\begin{bmatrix} 0 & 1 \\end{bmatrix}\\begin{bmatrix} s + 2 & -5 \\\\ 1 & s \\end{bmatrix}\\begin{bmatrix} 0 \\\\ 2 \\end{bmatrix}}{s² + 2s + 5} + 1$$\n",
    "\n",
    "$$\\therefore G(s) = \\frac{\\begin{bmatrix} 1 & s \\end{bmatrix}\\begin{bmatrix} 0 \\\\ 2 \\end{bmatrix}}{s² + 2s + 5}$$\n",
    "\n",
    "$$\\therefore G(s) = \\frac{25}{s² + 2s + 5} + 1$$\n",
    "\n",
    "$$\\therefore G(s) = \\frac{s² + 4s + 5}{s² + 2s + 5} = \\frac{Y(s)}{U(s)}$$\n",
    "\n",
    "Em python, podemos criar um sistema no espaço de estados com a função `ct.ss()` da biblioteca `control`. Para isso, devemos definir nossas matrizes:"
   ]
  },
  {
   "cell_type": "code",
   "execution_count": 33,
   "id": "01c423fe-17cd-4c33-942f-48e694d301d4",
   "metadata": {},
   "outputs": [
    {
     "data": {
      "text/latex": [
       "$$\n",
       "\\left(\\begin{array}{rllrll|rll}\n",
       "0\\phantom{.}&\\hspace{-1em}&\\hspace{-1em}\\phantom{\\cdot}&1\\phantom{.}&\\hspace{-1em}&\\hspace{-1em}\\phantom{\\cdot}&0\\phantom{.}&\\hspace{-1em}&\\hspace{-1em}\\phantom{\\cdot}\\\\\n",
       "-5\\phantom{.}&\\hspace{-1em}&\\hspace{-1em}\\phantom{\\cdot}&-2\\phantom{.}&\\hspace{-1em}&\\hspace{-1em}\\phantom{\\cdot}&2\\phantom{.}&\\hspace{-1em}&\\hspace{-1em}\\phantom{\\cdot}\\\\\n",
       "\\hline\n",
       "0\\phantom{.}&\\hspace{-1em}&\\hspace{-1em}\\phantom{\\cdot}&1\\phantom{.}&\\hspace{-1em}&\\hspace{-1em}\\phantom{\\cdot}&1\\phantom{.}&\\hspace{-1em}&\\hspace{-1em}\\phantom{\\cdot}\\\\\n",
       "\\end{array}\\right)\n",
       "$$"
      ],
      "text/plain": [
       "StateSpace(array([[ 0.,  1.],\n",
       "       [-5., -2.]]), array([[0.],\n",
       "       [2.]]), array([[0., 1.]]), array([[1.]]))"
      ]
     },
     "execution_count": 33,
     "metadata": {},
     "output_type": "execute_result"
    }
   ],
   "source": [
    "import numpy as np\n",
    "import control as ct\n",
    "import matplotlib.pyplot as plt\n",
    "\n",
    "A = [[0, 1],[-5, -2]]\n",
    "B = [[0], [2]]\n",
    "C = [[0, 1]]\n",
    "D = [[1]]\n",
    "\n",
    "Sys = ct.ss(A, B, C, D)\n",
    "\n",
    "Sys"
   ]
  },
  {
   "cell_type": "markdown",
   "id": "f428cff0-55b1-47b9-8c6a-a134a63113f7",
   "metadata": {},
   "source": [
    "Agora, podemos usar a função `ct.ss2tf()` para achar a função de transferência do nosso sistema:"
   ]
  },
  {
   "cell_type": "code",
   "execution_count": 34,
   "id": "7f7783e1-7b37-4486-bf9b-f3a3816d927c",
   "metadata": {},
   "outputs": [
    {
     "data": {
      "text/latex": [
       "$$\\frac{s^2 + 4 s + 5}{s^2 + 2 s + 5}$$"
      ],
      "text/plain": [
       "TransferFunction(array([1., 4., 5.]), array([1., 2., 5.]))"
      ]
     },
     "execution_count": 34,
     "metadata": {},
     "output_type": "execute_result"
    }
   ],
   "source": [
    "G = ct.ss2tf(Sys)\n",
    "\n",
    "G"
   ]
  },
  {
   "cell_type": "markdown",
   "id": "e062fee9-790a-45ad-b7c2-9eb57a9c95f3",
   "metadata": {},
   "source": [
    "Achamos uma função de transferência equivalente."
   ]
  },
  {
   "cell_type": "markdown",
   "id": "410a52d7-3828-46b4-8eb0-6d11efc507e7",
   "metadata": {},
   "source": [
    "## Parte 2\n",
    "\n",
    "2. Encontre um modelo de entrada-saída equivalente ao modelo de espaço de estado\n",
    "\n",
    "Com a função de transferência em mãos, podemos simplesmente multiplicar os meios e os extremos achando a seguinte expressão:\n",
    "\n",
    "$$\n",
    "(s² + 2s + 5)Y(s) = (s² + 4s + 5)U(s) \\\\\n",
    "$$\n",
    "\n",
    "Aplicando a inversa de laplace, temos:\n",
    "\n",
    "$$\n",
    "\\therefore \\ddot{y}(t) + 2\\dot{y}(t) +5y(t) = \\ddot{u}(t) + 4\\dot{u}(t)\n",
    "$$\n",
    "\n",
    "E esse é nosso modelo de entrada e saída.\n",
    "\n",
    "Em python, poderíamos usar a função `ct.tf2io()` da biblioteca `control`, mas essa função foi descuntinuada na versão mais atual da biblioteca."
   ]
  },
  {
   "cell_type": "markdown",
   "id": "8e752774-83cd-4682-b6c8-7854c157a535",
   "metadata": {},
   "source": [
    "## Parte 3\n",
    "\n",
    "3. Encontre a evolução forçada de estado e saída como resposta da entrada $u(t) = e^{-3t}$\n",
    "\n",
    "Para isso, vamos achar $U(s)$ aplicando a transformada de laplace em $u(t)$:\n",
    "\n",
    "$$\n",
    "\\mathcal{L}[ e^{-3t}] = \\frac{1}{s + 3} \\\\\n",
    "$$\n",
    "\n",
    "Nesse caso, nossa função resposta pode ser escrita como:\n",
    "\n",
    "$$\n",
    "Y(t) = G(t)U(t) = \\frac{s² + 4s + 5}{s² + 2s + 5} \\cdot \\frac{1}{s + 3} = \n",
    "$$\n",
    "\n",
    "Para isso, vamos criar uma nova função de transferência para representar $U(s)$ e multiplicar as funções:"
   ]
  },
  {
   "cell_type": "code",
   "execution_count": 35,
   "id": "f4be7fde-4582-4a4a-b135-cbea06e01aea",
   "metadata": {},
   "outputs": [
    {
     "data": {
      "text/latex": [
       "$$\\frac{1}{s + 3}$$"
      ],
      "text/plain": [
       "TransferFunction(array([1]), array([1, 3]))"
      ]
     },
     "execution_count": 35,
     "metadata": {},
     "output_type": "execute_result"
    }
   ],
   "source": [
    "U = ct.tf([1], [1, 3])\n",
    "\n",
    "U"
   ]
  },
  {
   "cell_type": "code",
   "execution_count": 36,
   "id": "40556b33-570d-4480-abd3-be44b98912bc",
   "metadata": {},
   "outputs": [
    {
     "data": {
      "text/latex": [
       "$$\\frac{s^2 + 4 s + 5}{s^3 + 5 s^2 + 11 s + 15}$$"
      ],
      "text/plain": [
       "TransferFunction(array([1., 4., 5.]), array([ 1.,  5., 11., 15.]))"
      ]
     },
     "execution_count": 36,
     "metadata": {},
     "output_type": "execute_result"
    }
   ],
   "source": [
    "Y = G*U\n",
    "\n",
    "Y"
   ]
  },
  {
   "cell_type": "code",
   "execution_count": 37,
   "id": "779c2f88-d949-4ee5-9189-9f6e3a9afe2b",
   "metadata": {},
   "outputs": [
    {
     "data": {
      "text/latex": [
       "$\\displaystyle \\frac{s^{2} + 4 s + 5}{s^{3} + 5 s^{2} + 11 s + 15}$"
      ],
      "text/plain": [
       "(s**2 + 4*s + 5)/(s**3 + 5*s**2 + 11*s + 15)"
      ]
     },
     "execution_count": 37,
     "metadata": {},
     "output_type": "execute_result"
    }
   ],
   "source": [
    "import sympy as sym\n",
    "from sympy.abc import s,t\n",
    "\n",
    "F = (s**2 + 4*s + 5)/(s**3 + 5*(s**2) + 11*s + 15)\n",
    "\n",
    "F"
   ]
  },
  {
   "cell_type": "code",
   "execution_count": 38,
   "id": "1396f6f2-f078-4e33-9931-a71d7b3dd3b4",
   "metadata": {},
   "outputs": [
    {
     "data": {
      "text/latex": [
       "$\\displaystyle \\frac{\\left(\\left(\\sin{\\left(2 t \\right)} + 3 \\cos{\\left(2 t \\right)}\\right) e^{2 t} + 1\\right) e^{- 3 t} \\theta\\left(t\\right)}{4}$"
      ],
      "text/plain": [
       "((sin(2*t) + 3*cos(2*t))*exp(2*t) + 1)*exp(-3*t)*Heaviside(t)/4"
      ]
     },
     "execution_count": 38,
     "metadata": {},
     "output_type": "execute_result"
    }
   ],
   "source": [
    "f = sym.inverse_laplace_transform(F, s, t)\n",
    "\n",
    "f"
   ]
  },
  {
   "cell_type": "code",
   "execution_count": 39,
   "id": "76309a14-5933-42c5-b957-04dfe02f8ba7",
   "metadata": {},
   "outputs": [
    {
     "data": {
      "image/png": "[encoded data removed]",
      "text/plain": [
       "<Figure size 640x480 with 1 Axes>"
      ]
     },
     "metadata": {},
     "output_type": "display_data"
    }
   ],
   "source": [
    "x, y = ct.impulse_response(Y)\n",
    "\n",
    "plt.plot(x, y)\n",
    "plt.show()"
   ]
  },
  {
   "cell_type": "code",
   "execution_count": null,
   "id": "099107ca-560d-4f6c-bac5-bde4b8397c93",
   "metadata": {},
   "outputs": [],
   "source": []
  }
 ],
 "metadata": {
  "kernelspec": {
   "display_name": "Python 3 (ipykernel)",
   "language": "python",
   "name": "python3"
  },
  "language_info": {
   "codemirror_mode": {
    "name": "ipython",
    "version": 3
   },
   "file_extension": ".py",
   "mimetype": "text/x-python",
   "name": "python",
   "nbconvert_exporter": "python",
   "pygments_lexer": "ipython3",
   "version": "3.10.12"
  }
 },
 "nbformat": 4,
 "nbformat_minor": 5
}
